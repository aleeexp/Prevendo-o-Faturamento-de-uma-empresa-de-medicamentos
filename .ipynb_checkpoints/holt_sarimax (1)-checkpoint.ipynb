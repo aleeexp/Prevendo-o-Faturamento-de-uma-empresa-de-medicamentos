{
  "cells": [
    {
      "cell_type": "markdown",
      "id": "49aaab05-904c-42ce-9819-2be71d43fe93",
      "metadata": {
        "id": "49aaab05-904c-42ce-9819-2be71d43fe93"
      },
      "source": [
        "# Import Libraries and Data"
      ]
    },
    {
      "cell_type": "code",
      "execution_count": 4,
      "id": "ef266e70-d8f2-45f2-a4c6-e2a4c2ee4bfa",
      "metadata": {
        "id": "ef266e70-d8f2-45f2-a4c6-e2a4c2ee4bfa"
      },
      "outputs": [],
      "source": [
        "#import libraries\n",
        "import pandas as pd\n",
        "import numpy as np\n",
        "import matplotlib.pyplot as plt"
      ]
    },
    {
      "cell_type": "code",
      "execution_count": 5,
      "id": "a49a0f28-4976-4366-818a-02cc41ba79be",
      "metadata": {
        "colab": {
          "base_uri": "https://localhost:8080/"
        },
        "id": "a49a0f28-4976-4366-818a-02cc41ba79be",
        "outputId": "12a72dd9-0a17-4002-d4d7-23093df2fb7d"
      },
      "outputs": [
        {
          "output_type": "stream",
          "name": "stdout",
          "text": [
            "CPU times: user 362 ms, sys: 103 ms, total: 465 ms\n",
            "Wall time: 937 ms\n"
          ]
        }
      ],
      "source": [
        "%%time\n",
        "data_location = \"/content/drive/MyDrive/Projeto_Final/data/Faturamento.csv\"\n",
        "dataset = pd.read_csv(data_location, sep = \";\", encoding=\"latin-1\", low_memory=False, parse_dates= {\"date\" : [\"ANO\",\"MES\"]}, index_col = 'date')"
      ]
    },
    {
      "cell_type": "markdown",
      "id": "4446a581-9ce1-42bb-a6e5-e49da7f111f3",
      "metadata": {
        "id": "4446a581-9ce1-42bb-a6e5-e49da7f111f3"
      },
      "source": [
        "# Definição de Funções"
      ]
    },
    {
      "cell_type": "code",
      "execution_count": 6,
      "id": "1d0a9b27-6046-4a04-8a33-33d8d427d9ed",
      "metadata": {
        "id": "1d0a9b27-6046-4a04-8a33-33d8d427d9ed"
      },
      "outputs": [],
      "source": [
        "def RMSE(predicted, actual):\n",
        "    mse  = (predicted - actual) ** 2\n",
        "    rmse = np.sqrt(mse.sum() / mse.count())\n",
        "    return rmse"
      ]
    },
    {
      "cell_type": "code",
      "execution_count": 7,
      "id": "c1fd1b96-0cfa-4dc9-9118-050935cb5b60",
      "metadata": {
        "id": "c1fd1b96-0cfa-4dc9-9118-050935cb5b60"
      },
      "outputs": [],
      "source": [
        "def rmse(predictions, targets):\n",
        "    differences = predictions - targets                    \n",
        "    differences_squared = differences ** 2                    \n",
        "    mean_of_differences_squared = differences_squared.mean()  \n",
        "    rmse_val = np.sqrt(mean_of_differences_squared)           \n",
        "    return rmse_val "
      ]
    },
    {
      "cell_type": "code",
      "execution_count": 8,
      "id": "649d4f57-9a58-47b4-b646-562a7d34f671",
      "metadata": {
        "id": "649d4f57-9a58-47b4-b646-562a7d34f671"
      },
      "outputs": [],
      "source": [
        "def grid_search(modelo, parametros, treino_x, treino_y):\n",
        "    gs = GridSearchCV(modelo, cv=5, param_grid=parametros, scoring='neg_mean_absolute_percentage_error')\n",
        "    gs.fit(treino_x,treino_y)\n",
        "    melhores_parametros = gs.best_params_\n",
        "    melhor_resultado = gs.best_score_\n",
        "    return melhores_parametros\n",
        "    return melhor_resultado"
      ]
    },
    {
      "cell_type": "markdown",
      "id": "4e391b42-b547-4336-afad-cdd4bfb8d719",
      "metadata": {
        "id": "4e391b42-b547-4336-afad-cdd4bfb8d719"
      },
      "source": [
        "# Transformação dos Dados"
      ]
    },
    {
      "cell_type": "code",
      "execution_count": 9,
      "id": "7826ae5d-e75a-4747-b028-1254b00a781c",
      "metadata": {
        "colab": {
          "base_uri": "https://localhost:8080/",
          "height": 238
        },
        "id": "7826ae5d-e75a-4747-b028-1254b00a781c",
        "outputId": "0d5d5d51-4826-4f4e-c636-bfc2d7437047"
      },
      "outputs": [
        {
          "output_type": "execute_result",
          "data": {
            "text/plain": [
              "            TRIMESTRE      DESCRICAO_GRUPO  UF      CIDADE  ELEICAO_MUNICIPAL  \\\n",
              "date                                                                            \n",
              "2014-05-01          2            SANEANTES  SC  RIO DO SUL                  0   \n",
              "2014-06-01          2  PRODUTOS PARA SAUDE  SC  RIO DO SUL                  0   \n",
              "2014-07-01          3          LABORATORIO  SC  RIO DO SUL                  0   \n",
              "2016-06-01          2  PRODUTOS PARA SAUDE  SC  RIO DO SUL                  1   \n",
              "2017-01-01          1  PRODUTOS PARA SAUDE  SC  RIO DO SUL                  0   \n",
              "\n",
              "            ELEICAO_FEDERAL VARIACAO_DOLAR INFLACAO   PIB     VALOR  \n",
              "date                                                                 \n",
              "2014-05-01                1    14,40010277     6,41   0,5   1868,99  \n",
              "2014-06-01                1    14,40010277     6,41   0,5  27279,04  \n",
              "2014-07-01                1    14,40010277     6,41   0,5    214,12  \n",
              "2016-06-01                0   -12,59075524     6,29  -3,3  46374,06  \n",
              "2017-01-01                0   -2,944132427     2,95   1,3  32043,56  "
            ],
            "text/html": [
              "\n",
              "  <div id=\"df-a518b92b-461e-408d-9ee4-125093a1caa8\">\n",
              "    <div class=\"colab-df-container\">\n",
              "      <div>\n",
              "<style scoped>\n",
              "    .dataframe tbody tr th:only-of-type {\n",
              "        vertical-align: middle;\n",
              "    }\n",
              "\n",
              "    .dataframe tbody tr th {\n",
              "        vertical-align: top;\n",
              "    }\n",
              "\n",
              "    .dataframe thead th {\n",
              "        text-align: right;\n",
              "    }\n",
              "</style>\n",
              "<table border=\"1\" class=\"dataframe\">\n",
              "  <thead>\n",
              "    <tr style=\"text-align: right;\">\n",
              "      <th></th>\n",
              "      <th>TRIMESTRE</th>\n",
              "      <th>DESCRICAO_GRUPO</th>\n",
              "      <th>UF</th>\n",
              "      <th>CIDADE</th>\n",
              "      <th>ELEICAO_MUNICIPAL</th>\n",
              "      <th>ELEICAO_FEDERAL</th>\n",
              "      <th>VARIACAO_DOLAR</th>\n",
              "      <th>INFLACAO</th>\n",
              "      <th>PIB</th>\n",
              "      <th>VALOR</th>\n",
              "    </tr>\n",
              "    <tr>\n",
              "      <th>date</th>\n",
              "      <th></th>\n",
              "      <th></th>\n",
              "      <th></th>\n",
              "      <th></th>\n",
              "      <th></th>\n",
              "      <th></th>\n",
              "      <th></th>\n",
              "      <th></th>\n",
              "      <th></th>\n",
              "      <th></th>\n",
              "    </tr>\n",
              "  </thead>\n",
              "  <tbody>\n",
              "    <tr>\n",
              "      <th>2014-05-01</th>\n",
              "      <td>2</td>\n",
              "      <td>SANEANTES</td>\n",
              "      <td>SC</td>\n",
              "      <td>RIO DO SUL</td>\n",
              "      <td>0</td>\n",
              "      <td>1</td>\n",
              "      <td>14,40010277</td>\n",
              "      <td>6,41</td>\n",
              "      <td>0,5</td>\n",
              "      <td>1868,99</td>\n",
              "    </tr>\n",
              "    <tr>\n",
              "      <th>2014-06-01</th>\n",
              "      <td>2</td>\n",
              "      <td>PRODUTOS PARA SAUDE</td>\n",
              "      <td>SC</td>\n",
              "      <td>RIO DO SUL</td>\n",
              "      <td>0</td>\n",
              "      <td>1</td>\n",
              "      <td>14,40010277</td>\n",
              "      <td>6,41</td>\n",
              "      <td>0,5</td>\n",
              "      <td>27279,04</td>\n",
              "    </tr>\n",
              "    <tr>\n",
              "      <th>2014-07-01</th>\n",
              "      <td>3</td>\n",
              "      <td>LABORATORIO</td>\n",
              "      <td>SC</td>\n",
              "      <td>RIO DO SUL</td>\n",
              "      <td>0</td>\n",
              "      <td>1</td>\n",
              "      <td>14,40010277</td>\n",
              "      <td>6,41</td>\n",
              "      <td>0,5</td>\n",
              "      <td>214,12</td>\n",
              "    </tr>\n",
              "    <tr>\n",
              "      <th>2016-06-01</th>\n",
              "      <td>2</td>\n",
              "      <td>PRODUTOS PARA SAUDE</td>\n",
              "      <td>SC</td>\n",
              "      <td>RIO DO SUL</td>\n",
              "      <td>1</td>\n",
              "      <td>0</td>\n",
              "      <td>-12,59075524</td>\n",
              "      <td>6,29</td>\n",
              "      <td>-3,3</td>\n",
              "      <td>46374,06</td>\n",
              "    </tr>\n",
              "    <tr>\n",
              "      <th>2017-01-01</th>\n",
              "      <td>1</td>\n",
              "      <td>PRODUTOS PARA SAUDE</td>\n",
              "      <td>SC</td>\n",
              "      <td>RIO DO SUL</td>\n",
              "      <td>0</td>\n",
              "      <td>0</td>\n",
              "      <td>-2,944132427</td>\n",
              "      <td>2,95</td>\n",
              "      <td>1,3</td>\n",
              "      <td>32043,56</td>\n",
              "    </tr>\n",
              "  </tbody>\n",
              "</table>\n",
              "</div>\n",
              "      <button class=\"colab-df-convert\" onclick=\"convertToInteractive('df-a518b92b-461e-408d-9ee4-125093a1caa8')\"\n",
              "              title=\"Convert this dataframe to an interactive table.\"\n",
              "              style=\"display:none;\">\n",
              "        \n",
              "  <svg xmlns=\"http://www.w3.org/2000/svg\" height=\"24px\"viewBox=\"0 0 24 24\"\n",
              "       width=\"24px\">\n",
              "    <path d=\"M0 0h24v24H0V0z\" fill=\"none\"/>\n",
              "    <path d=\"M18.56 5.44l.94 2.06.94-2.06 2.06-.94-2.06-.94-.94-2.06-.94 2.06-2.06.94zm-11 1L8.5 8.5l.94-2.06 2.06-.94-2.06-.94L8.5 2.5l-.94 2.06-2.06.94zm10 10l.94 2.06.94-2.06 2.06-.94-2.06-.94-.94-2.06-.94 2.06-2.06.94z\"/><path d=\"M17.41 7.96l-1.37-1.37c-.4-.4-.92-.59-1.43-.59-.52 0-1.04.2-1.43.59L10.3 9.45l-7.72 7.72c-.78.78-.78 2.05 0 2.83L4 21.41c.39.39.9.59 1.41.59.51 0 1.02-.2 1.41-.59l7.78-7.78 2.81-2.81c.8-.78.8-2.07 0-2.86zM5.41 20L4 18.59l7.72-7.72 1.47 1.35L5.41 20z\"/>\n",
              "  </svg>\n",
              "      </button>\n",
              "      \n",
              "  <style>\n",
              "    .colab-df-container {\n",
              "      display:flex;\n",
              "      flex-wrap:wrap;\n",
              "      gap: 12px;\n",
              "    }\n",
              "\n",
              "    .colab-df-convert {\n",
              "      background-color: #E8F0FE;\n",
              "      border: none;\n",
              "      border-radius: 50%;\n",
              "      cursor: pointer;\n",
              "      display: none;\n",
              "      fill: #1967D2;\n",
              "      height: 32px;\n",
              "      padding: 0 0 0 0;\n",
              "      width: 32px;\n",
              "    }\n",
              "\n",
              "    .colab-df-convert:hover {\n",
              "      background-color: #E2EBFA;\n",
              "      box-shadow: 0px 1px 2px rgba(60, 64, 67, 0.3), 0px 1px 3px 1px rgba(60, 64, 67, 0.15);\n",
              "      fill: #174EA6;\n",
              "    }\n",
              "\n",
              "    [theme=dark] .colab-df-convert {\n",
              "      background-color: #3B4455;\n",
              "      fill: #D2E3FC;\n",
              "    }\n",
              "\n",
              "    [theme=dark] .colab-df-convert:hover {\n",
              "      background-color: #434B5C;\n",
              "      box-shadow: 0px 1px 3px 1px rgba(0, 0, 0, 0.15);\n",
              "      filter: drop-shadow(0px 1px 2px rgba(0, 0, 0, 0.3));\n",
              "      fill: #FFFFFF;\n",
              "    }\n",
              "  </style>\n",
              "\n",
              "      <script>\n",
              "        const buttonEl =\n",
              "          document.querySelector('#df-a518b92b-461e-408d-9ee4-125093a1caa8 button.colab-df-convert');\n",
              "        buttonEl.style.display =\n",
              "          google.colab.kernel.accessAllowed ? 'block' : 'none';\n",
              "\n",
              "        async function convertToInteractive(key) {\n",
              "          const element = document.querySelector('#df-a518b92b-461e-408d-9ee4-125093a1caa8');\n",
              "          const dataTable =\n",
              "            await google.colab.kernel.invokeFunction('convertToInteractive',\n",
              "                                                     [key], {});\n",
              "          if (!dataTable) return;\n",
              "\n",
              "          const docLinkHtml = 'Like what you see? Visit the ' +\n",
              "            '<a target=\"_blank\" href=https://colab.research.google.com/notebooks/data_table.ipynb>data table notebook</a>'\n",
              "            + ' to learn more about interactive tables.';\n",
              "          element.innerHTML = '';\n",
              "          dataTable['output_type'] = 'display_data';\n",
              "          await google.colab.output.renderOutput(dataTable, element);\n",
              "          const docLink = document.createElement('div');\n",
              "          docLink.innerHTML = docLinkHtml;\n",
              "          element.appendChild(docLink);\n",
              "        }\n",
              "      </script>\n",
              "    </div>\n",
              "  </div>\n",
              "  "
            ]
          },
          "metadata": {},
          "execution_count": 9
        }
      ],
      "source": [
        "dataset.head()"
      ]
    },
    {
      "cell_type": "code",
      "execution_count": 10,
      "id": "6be28b02-b05b-42a3-b4c9-811079c5ee5b",
      "metadata": {
        "colab": {
          "base_uri": "https://localhost:8080/"
        },
        "id": "6be28b02-b05b-42a3-b4c9-811079c5ee5b",
        "outputId": "da585c90-f3f5-49be-d31f-b5c3f545ba85"
      },
      "outputs": [
        {
          "output_type": "execute_result",
          "data": {
            "text/plain": [
              "TRIMESTRE            0\n",
              "DESCRICAO_GRUPO      0\n",
              "UF                   0\n",
              "CIDADE               0\n",
              "ELEICAO_MUNICIPAL    0\n",
              "ELEICAO_FEDERAL      0\n",
              "VARIACAO_DOLAR       0\n",
              "INFLACAO             0\n",
              "PIB                  0\n",
              "VALOR                0\n",
              "dtype: int64"
            ]
          },
          "metadata": {},
          "execution_count": 10
        }
      ],
      "source": [
        "dataset.isnull().sum()"
      ]
    },
    {
      "cell_type": "code",
      "execution_count": 11,
      "id": "8faf6f4e-9758-446a-ab12-fc7e48f201a9",
      "metadata": {
        "colab": {
          "base_uri": "https://localhost:8080/",
          "height": 455
        },
        "id": "8faf6f4e-9758-446a-ab12-fc7e48f201a9",
        "outputId": "367684a1-d034-4d5c-ec5d-eb296cd8586a"
      },
      "outputs": [
        {
          "output_type": "execute_result",
          "data": {
            "text/plain": [
              "            TRIMESTRE           DESCRICAO_GRUPO  UF        CIDADE  \\\n",
              "date                                                                \n",
              "2014-05-01          2                 SANEANTES  SC    RIO DO SUL   \n",
              "2014-06-01          2       PRODUTOS PARA SAUDE  SC    RIO DO SUL   \n",
              "2014-07-01          3               LABORATORIO  SC    RIO DO SUL   \n",
              "2016-06-01          2       PRODUTOS PARA SAUDE  SC    RIO DO SUL   \n",
              "2017-01-01          1       PRODUTOS PARA SAUDE  SC    RIO DO SUL   \n",
              "...               ...                       ...  ..           ...   \n",
              "2022-03-01          1  MEDICAMENTOS CONTROLADOS  SP        BRAUNA   \n",
              "2022-08-01          3                 SANEANTES  RS  SAO LEOPOLDO   \n",
              "2016-10-01          4              MEDICAMENTOS  SC         PAIAL   \n",
              "2016-10-01          4                 SANEANTES  SC         PAIAL   \n",
              "2016-07-01          3       PRODUTOS PARA SAUDE  SC         PAIAL   \n",
              "\n",
              "            ELEICAO_MUNICIPAL  ELEICAO_FEDERAL  VARIACAO_DOLAR  INFLACAO  PIB  \\\n",
              "date                                                                            \n",
              "2014-05-01                  0                1       14.400103      6.41  0.5   \n",
              "2014-06-01                  0                1       14.400103      6.41  0.5   \n",
              "2014-07-01                  0                1       14.400103      6.41  0.5   \n",
              "2016-06-01                  1                0      -12.590755      6.29 -3.3   \n",
              "2017-01-01                  0                0       -2.944132      2.95  1.3   \n",
              "...                       ...              ...             ...       ...  ...   \n",
              "2022-03-01                  0                1       -5.763944      6.70  2.1   \n",
              "2022-08-01                  0                1       -5.763944      6.70  2.1   \n",
              "2016-10-01                  1                0      -12.590755      6.29 -3.3   \n",
              "2016-10-01                  1                0      -12.590755      6.29 -3.3   \n",
              "2016-07-01                  1                0      -12.590755      6.29 -3.3   \n",
              "\n",
              "               VALOR  \n",
              "date                  \n",
              "2014-05-01   1868.99  \n",
              "2014-06-01  27279.04  \n",
              "2014-07-01    214.12  \n",
              "2016-06-01  46374.06  \n",
              "2017-01-01  32043.56  \n",
              "...              ...  \n",
              "2022-03-01     63.00  \n",
              "2022-08-01    402.60  \n",
              "2016-10-01    578.89  \n",
              "2016-10-01      6.55  \n",
              "2016-07-01    296.00  \n",
              "\n",
              "[164959 rows x 10 columns]"
            ],
            "text/html": [
              "\n",
              "  <div id=\"df-bfa9e94e-fe76-4db3-9cc4-9016f283c57f\">\n",
              "    <div class=\"colab-df-container\">\n",
              "      <div>\n",
              "<style scoped>\n",
              "    .dataframe tbody tr th:only-of-type {\n",
              "        vertical-align: middle;\n",
              "    }\n",
              "\n",
              "    .dataframe tbody tr th {\n",
              "        vertical-align: top;\n",
              "    }\n",
              "\n",
              "    .dataframe thead th {\n",
              "        text-align: right;\n",
              "    }\n",
              "</style>\n",
              "<table border=\"1\" class=\"dataframe\">\n",
              "  <thead>\n",
              "    <tr style=\"text-align: right;\">\n",
              "      <th></th>\n",
              "      <th>TRIMESTRE</th>\n",
              "      <th>DESCRICAO_GRUPO</th>\n",
              "      <th>UF</th>\n",
              "      <th>CIDADE</th>\n",
              "      <th>ELEICAO_MUNICIPAL</th>\n",
              "      <th>ELEICAO_FEDERAL</th>\n",
              "      <th>VARIACAO_DOLAR</th>\n",
              "      <th>INFLACAO</th>\n",
              "      <th>PIB</th>\n",
              "      <th>VALOR</th>\n",
              "    </tr>\n",
              "    <tr>\n",
              "      <th>date</th>\n",
              "      <th></th>\n",
              "      <th></th>\n",
              "      <th></th>\n",
              "      <th></th>\n",
              "      <th></th>\n",
              "      <th></th>\n",
              "      <th></th>\n",
              "      <th></th>\n",
              "      <th></th>\n",
              "      <th></th>\n",
              "    </tr>\n",
              "  </thead>\n",
              "  <tbody>\n",
              "    <tr>\n",
              "      <th>2014-05-01</th>\n",
              "      <td>2</td>\n",
              "      <td>SANEANTES</td>\n",
              "      <td>SC</td>\n",
              "      <td>RIO DO SUL</td>\n",
              "      <td>0</td>\n",
              "      <td>1</td>\n",
              "      <td>14.400103</td>\n",
              "      <td>6.41</td>\n",
              "      <td>0.5</td>\n",
              "      <td>1868.99</td>\n",
              "    </tr>\n",
              "    <tr>\n",
              "      <th>2014-06-01</th>\n",
              "      <td>2</td>\n",
              "      <td>PRODUTOS PARA SAUDE</td>\n",
              "      <td>SC</td>\n",
              "      <td>RIO DO SUL</td>\n",
              "      <td>0</td>\n",
              "      <td>1</td>\n",
              "      <td>14.400103</td>\n",
              "      <td>6.41</td>\n",
              "      <td>0.5</td>\n",
              "      <td>27279.04</td>\n",
              "    </tr>\n",
              "    <tr>\n",
              "      <th>2014-07-01</th>\n",
              "      <td>3</td>\n",
              "      <td>LABORATORIO</td>\n",
              "      <td>SC</td>\n",
              "      <td>RIO DO SUL</td>\n",
              "      <td>0</td>\n",
              "      <td>1</td>\n",
              "      <td>14.400103</td>\n",
              "      <td>6.41</td>\n",
              "      <td>0.5</td>\n",
              "      <td>214.12</td>\n",
              "    </tr>\n",
              "    <tr>\n",
              "      <th>2016-06-01</th>\n",
              "      <td>2</td>\n",
              "      <td>PRODUTOS PARA SAUDE</td>\n",
              "      <td>SC</td>\n",
              "      <td>RIO DO SUL</td>\n",
              "      <td>1</td>\n",
              "      <td>0</td>\n",
              "      <td>-12.590755</td>\n",
              "      <td>6.29</td>\n",
              "      <td>-3.3</td>\n",
              "      <td>46374.06</td>\n",
              "    </tr>\n",
              "    <tr>\n",
              "      <th>2017-01-01</th>\n",
              "      <td>1</td>\n",
              "      <td>PRODUTOS PARA SAUDE</td>\n",
              "      <td>SC</td>\n",
              "      <td>RIO DO SUL</td>\n",
              "      <td>0</td>\n",
              "      <td>0</td>\n",
              "      <td>-2.944132</td>\n",
              "      <td>2.95</td>\n",
              "      <td>1.3</td>\n",
              "      <td>32043.56</td>\n",
              "    </tr>\n",
              "    <tr>\n",
              "      <th>...</th>\n",
              "      <td>...</td>\n",
              "      <td>...</td>\n",
              "      <td>...</td>\n",
              "      <td>...</td>\n",
              "      <td>...</td>\n",
              "      <td>...</td>\n",
              "      <td>...</td>\n",
              "      <td>...</td>\n",
              "      <td>...</td>\n",
              "      <td>...</td>\n",
              "    </tr>\n",
              "    <tr>\n",
              "      <th>2022-03-01</th>\n",
              "      <td>1</td>\n",
              "      <td>MEDICAMENTOS CONTROLADOS</td>\n",
              "      <td>SP</td>\n",
              "      <td>BRAUNA</td>\n",
              "      <td>0</td>\n",
              "      <td>1</td>\n",
              "      <td>-5.763944</td>\n",
              "      <td>6.70</td>\n",
              "      <td>2.1</td>\n",
              "      <td>63.00</td>\n",
              "    </tr>\n",
              "    <tr>\n",
              "      <th>2022-08-01</th>\n",
              "      <td>3</td>\n",
              "      <td>SANEANTES</td>\n",
              "      <td>RS</td>\n",
              "      <td>SAO LEOPOLDO</td>\n",
              "      <td>0</td>\n",
              "      <td>1</td>\n",
              "      <td>-5.763944</td>\n",
              "      <td>6.70</td>\n",
              "      <td>2.1</td>\n",
              "      <td>402.60</td>\n",
              "    </tr>\n",
              "    <tr>\n",
              "      <th>2016-10-01</th>\n",
              "      <td>4</td>\n",
              "      <td>MEDICAMENTOS</td>\n",
              "      <td>SC</td>\n",
              "      <td>PAIAL</td>\n",
              "      <td>1</td>\n",
              "      <td>0</td>\n",
              "      <td>-12.590755</td>\n",
              "      <td>6.29</td>\n",
              "      <td>-3.3</td>\n",
              "      <td>578.89</td>\n",
              "    </tr>\n",
              "    <tr>\n",
              "      <th>2016-10-01</th>\n",
              "      <td>4</td>\n",
              "      <td>SANEANTES</td>\n",
              "      <td>SC</td>\n",
              "      <td>PAIAL</td>\n",
              "      <td>1</td>\n",
              "      <td>0</td>\n",
              "      <td>-12.590755</td>\n",
              "      <td>6.29</td>\n",
              "      <td>-3.3</td>\n",
              "      <td>6.55</td>\n",
              "    </tr>\n",
              "    <tr>\n",
              "      <th>2016-07-01</th>\n",
              "      <td>3</td>\n",
              "      <td>PRODUTOS PARA SAUDE</td>\n",
              "      <td>SC</td>\n",
              "      <td>PAIAL</td>\n",
              "      <td>1</td>\n",
              "      <td>0</td>\n",
              "      <td>-12.590755</td>\n",
              "      <td>6.29</td>\n",
              "      <td>-3.3</td>\n",
              "      <td>296.00</td>\n",
              "    </tr>\n",
              "  </tbody>\n",
              "</table>\n",
              "<p>164959 rows × 10 columns</p>\n",
              "</div>\n",
              "      <button class=\"colab-df-convert\" onclick=\"convertToInteractive('df-bfa9e94e-fe76-4db3-9cc4-9016f283c57f')\"\n",
              "              title=\"Convert this dataframe to an interactive table.\"\n",
              "              style=\"display:none;\">\n",
              "        \n",
              "  <svg xmlns=\"http://www.w3.org/2000/svg\" height=\"24px\"viewBox=\"0 0 24 24\"\n",
              "       width=\"24px\">\n",
              "    <path d=\"M0 0h24v24H0V0z\" fill=\"none\"/>\n",
              "    <path d=\"M18.56 5.44l.94 2.06.94-2.06 2.06-.94-2.06-.94-.94-2.06-.94 2.06-2.06.94zm-11 1L8.5 8.5l.94-2.06 2.06-.94-2.06-.94L8.5 2.5l-.94 2.06-2.06.94zm10 10l.94 2.06.94-2.06 2.06-.94-2.06-.94-.94-2.06-.94 2.06-2.06.94z\"/><path d=\"M17.41 7.96l-1.37-1.37c-.4-.4-.92-.59-1.43-.59-.52 0-1.04.2-1.43.59L10.3 9.45l-7.72 7.72c-.78.78-.78 2.05 0 2.83L4 21.41c.39.39.9.59 1.41.59.51 0 1.02-.2 1.41-.59l7.78-7.78 2.81-2.81c.8-.78.8-2.07 0-2.86zM5.41 20L4 18.59l7.72-7.72 1.47 1.35L5.41 20z\"/>\n",
              "  </svg>\n",
              "      </button>\n",
              "      \n",
              "  <style>\n",
              "    .colab-df-container {\n",
              "      display:flex;\n",
              "      flex-wrap:wrap;\n",
              "      gap: 12px;\n",
              "    }\n",
              "\n",
              "    .colab-df-convert {\n",
              "      background-color: #E8F0FE;\n",
              "      border: none;\n",
              "      border-radius: 50%;\n",
              "      cursor: pointer;\n",
              "      display: none;\n",
              "      fill: #1967D2;\n",
              "      height: 32px;\n",
              "      padding: 0 0 0 0;\n",
              "      width: 32px;\n",
              "    }\n",
              "\n",
              "    .colab-df-convert:hover {\n",
              "      background-color: #E2EBFA;\n",
              "      box-shadow: 0px 1px 2px rgba(60, 64, 67, 0.3), 0px 1px 3px 1px rgba(60, 64, 67, 0.15);\n",
              "      fill: #174EA6;\n",
              "    }\n",
              "\n",
              "    [theme=dark] .colab-df-convert {\n",
              "      background-color: #3B4455;\n",
              "      fill: #D2E3FC;\n",
              "    }\n",
              "\n",
              "    [theme=dark] .colab-df-convert:hover {\n",
              "      background-color: #434B5C;\n",
              "      box-shadow: 0px 1px 3px 1px rgba(0, 0, 0, 0.15);\n",
              "      filter: drop-shadow(0px 1px 2px rgba(0, 0, 0, 0.3));\n",
              "      fill: #FFFFFF;\n",
              "    }\n",
              "  </style>\n",
              "\n",
              "      <script>\n",
              "        const buttonEl =\n",
              "          document.querySelector('#df-bfa9e94e-fe76-4db3-9cc4-9016f283c57f button.colab-df-convert');\n",
              "        buttonEl.style.display =\n",
              "          google.colab.kernel.accessAllowed ? 'block' : 'none';\n",
              "\n",
              "        async function convertToInteractive(key) {\n",
              "          const element = document.querySelector('#df-bfa9e94e-fe76-4db3-9cc4-9016f283c57f');\n",
              "          const dataTable =\n",
              "            await google.colab.kernel.invokeFunction('convertToInteractive',\n",
              "                                                     [key], {});\n",
              "          if (!dataTable) return;\n",
              "\n",
              "          const docLinkHtml = 'Like what you see? Visit the ' +\n",
              "            '<a target=\"_blank\" href=https://colab.research.google.com/notebooks/data_table.ipynb>data table notebook</a>'\n",
              "            + ' to learn more about interactive tables.';\n",
              "          element.innerHTML = '';\n",
              "          dataTable['output_type'] = 'display_data';\n",
              "          await google.colab.output.renderOutput(dataTable, element);\n",
              "          const docLink = document.createElement('div');\n",
              "          docLink.innerHTML = docLinkHtml;\n",
              "          element.appendChild(docLink);\n",
              "        }\n",
              "      </script>\n",
              "    </div>\n",
              "  </div>\n",
              "  "
            ]
          },
          "metadata": {},
          "execution_count": 11
        }
      ],
      "source": [
        "dataset['VARIACAO_DOLAR'] =dataset['VARIACAO_DOLAR'].apply(lambda x: x.replace(',', '.')).astype('float')\n",
        "dataset['INFLACAO'] =dataset['INFLACAO'].apply(lambda x: x.replace(',', '.')).astype('float')\n",
        "dataset['PIB'] =dataset['PIB'].apply(lambda x: x.replace(',', '.')).astype('float')\n",
        "dataset['VALOR'] =dataset['VALOR'].apply(lambda x: x.replace(',', '.')).astype('float')\n",
        "dataset"
      ]
    },
    {
      "cell_type": "code",
      "execution_count": 12,
      "id": "9d473227-6b70-4842-8716-a538bdb0b71c",
      "metadata": {
        "colab": {
          "base_uri": "https://localhost:8080/"
        },
        "id": "9d473227-6b70-4842-8716-a538bdb0b71c",
        "outputId": "ea827ce2-ebb3-4b80-a68d-2331c60cadf6"
      },
      "outputs": [
        {
          "output_type": "stream",
          "name": "stdout",
          "text": [
            "<class 'pandas.core.frame.DataFrame'>\n",
            "DatetimeIndex: 164959 entries, 2014-05-01 to 2016-07-01\n",
            "Data columns (total 10 columns):\n",
            " #   Column             Non-Null Count   Dtype  \n",
            "---  ------             --------------   -----  \n",
            " 0   TRIMESTRE          164959 non-null  int64  \n",
            " 1   DESCRICAO_GRUPO    164959 non-null  object \n",
            " 2   UF                 164959 non-null  object \n",
            " 3   CIDADE             164959 non-null  object \n",
            " 4   ELEICAO_MUNICIPAL  164959 non-null  int64  \n",
            " 5   ELEICAO_FEDERAL    164959 non-null  int64  \n",
            " 6   VARIACAO_DOLAR     164959 non-null  float64\n",
            " 7   INFLACAO           164959 non-null  float64\n",
            " 8   PIB                164959 non-null  float64\n",
            " 9   VALOR              164959 non-null  float64\n",
            "dtypes: float64(4), int64(3), object(3)\n",
            "memory usage: 13.8+ MB\n"
          ]
        }
      ],
      "source": [
        "dataset.info()"
      ]
    },
    {
      "cell_type": "code",
      "execution_count": 13,
      "id": "9b77bcbd-cf35-4d79-bd32-75b6e761a068",
      "metadata": {
        "colab": {
          "base_uri": "https://localhost:8080/",
          "height": 455
        },
        "id": "9b77bcbd-cf35-4d79-bd32-75b6e761a068",
        "outputId": "62afb2ae-51fb-46c0-deef-939808152455"
      },
      "outputs": [
        {
          "output_type": "execute_result",
          "data": {
            "text/plain": [
              "            ELEICAO_MUNICIPAL  ELEICAO_FEDERAL     VALOR\n",
              "date                                                    \n",
              "2008-12-01                  1                0    121.20\n",
              "2008-12-01                  1                0   8339.80\n",
              "2008-12-01                  1                0     60.00\n",
              "2008-12-01                  1                0   4361.90\n",
              "2008-12-01                  1                0    411.32\n",
              "...                       ...              ...       ...\n",
              "2022-08-01                  0                1  16390.23\n",
              "2022-08-01                  0                1     41.40\n",
              "2022-08-01                  0                1    770.00\n",
              "2022-08-01                  0                1   1306.10\n",
              "2022-08-01                  0                1    816.80\n",
              "\n",
              "[164959 rows x 3 columns]"
            ],
            "text/html": [
              "\n",
              "  <div id=\"df-b41d39b5-6a9b-49a2-bf95-e48331d840b7\">\n",
              "    <div class=\"colab-df-container\">\n",
              "      <div>\n",
              "<style scoped>\n",
              "    .dataframe tbody tr th:only-of-type {\n",
              "        vertical-align: middle;\n",
              "    }\n",
              "\n",
              "    .dataframe tbody tr th {\n",
              "        vertical-align: top;\n",
              "    }\n",
              "\n",
              "    .dataframe thead th {\n",
              "        text-align: right;\n",
              "    }\n",
              "</style>\n",
              "<table border=\"1\" class=\"dataframe\">\n",
              "  <thead>\n",
              "    <tr style=\"text-align: right;\">\n",
              "      <th></th>\n",
              "      <th>ELEICAO_MUNICIPAL</th>\n",
              "      <th>ELEICAO_FEDERAL</th>\n",
              "      <th>VALOR</th>\n",
              "    </tr>\n",
              "    <tr>\n",
              "      <th>date</th>\n",
              "      <th></th>\n",
              "      <th></th>\n",
              "      <th></th>\n",
              "    </tr>\n",
              "  </thead>\n",
              "  <tbody>\n",
              "    <tr>\n",
              "      <th>2008-12-01</th>\n",
              "      <td>1</td>\n",
              "      <td>0</td>\n",
              "      <td>121.20</td>\n",
              "    </tr>\n",
              "    <tr>\n",
              "      <th>2008-12-01</th>\n",
              "      <td>1</td>\n",
              "      <td>0</td>\n",
              "      <td>8339.80</td>\n",
              "    </tr>\n",
              "    <tr>\n",
              "      <th>2008-12-01</th>\n",
              "      <td>1</td>\n",
              "      <td>0</td>\n",
              "      <td>60.00</td>\n",
              "    </tr>\n",
              "    <tr>\n",
              "      <th>2008-12-01</th>\n",
              "      <td>1</td>\n",
              "      <td>0</td>\n",
              "      <td>4361.90</td>\n",
              "    </tr>\n",
              "    <tr>\n",
              "      <th>2008-12-01</th>\n",
              "      <td>1</td>\n",
              "      <td>0</td>\n",
              "      <td>411.32</td>\n",
              "    </tr>\n",
              "    <tr>\n",
              "      <th>...</th>\n",
              "      <td>...</td>\n",
              "      <td>...</td>\n",
              "      <td>...</td>\n",
              "    </tr>\n",
              "    <tr>\n",
              "      <th>2022-08-01</th>\n",
              "      <td>0</td>\n",
              "      <td>1</td>\n",
              "      <td>16390.23</td>\n",
              "    </tr>\n",
              "    <tr>\n",
              "      <th>2022-08-01</th>\n",
              "      <td>0</td>\n",
              "      <td>1</td>\n",
              "      <td>41.40</td>\n",
              "    </tr>\n",
              "    <tr>\n",
              "      <th>2022-08-01</th>\n",
              "      <td>0</td>\n",
              "      <td>1</td>\n",
              "      <td>770.00</td>\n",
              "    </tr>\n",
              "    <tr>\n",
              "      <th>2022-08-01</th>\n",
              "      <td>0</td>\n",
              "      <td>1</td>\n",
              "      <td>1306.10</td>\n",
              "    </tr>\n",
              "    <tr>\n",
              "      <th>2022-08-01</th>\n",
              "      <td>0</td>\n",
              "      <td>1</td>\n",
              "      <td>816.80</td>\n",
              "    </tr>\n",
              "  </tbody>\n",
              "</table>\n",
              "<p>164959 rows × 3 columns</p>\n",
              "</div>\n",
              "      <button class=\"colab-df-convert\" onclick=\"convertToInteractive('df-b41d39b5-6a9b-49a2-bf95-e48331d840b7')\"\n",
              "              title=\"Convert this dataframe to an interactive table.\"\n",
              "              style=\"display:none;\">\n",
              "        \n",
              "  <svg xmlns=\"http://www.w3.org/2000/svg\" height=\"24px\"viewBox=\"0 0 24 24\"\n",
              "       width=\"24px\">\n",
              "    <path d=\"M0 0h24v24H0V0z\" fill=\"none\"/>\n",
              "    <path d=\"M18.56 5.44l.94 2.06.94-2.06 2.06-.94-2.06-.94-.94-2.06-.94 2.06-2.06.94zm-11 1L8.5 8.5l.94-2.06 2.06-.94-2.06-.94L8.5 2.5l-.94 2.06-2.06.94zm10 10l.94 2.06.94-2.06 2.06-.94-2.06-.94-.94-2.06-.94 2.06-2.06.94z\"/><path d=\"M17.41 7.96l-1.37-1.37c-.4-.4-.92-.59-1.43-.59-.52 0-1.04.2-1.43.59L10.3 9.45l-7.72 7.72c-.78.78-.78 2.05 0 2.83L4 21.41c.39.39.9.59 1.41.59.51 0 1.02-.2 1.41-.59l7.78-7.78 2.81-2.81c.8-.78.8-2.07 0-2.86zM5.41 20L4 18.59l7.72-7.72 1.47 1.35L5.41 20z\"/>\n",
              "  </svg>\n",
              "      </button>\n",
              "      \n",
              "  <style>\n",
              "    .colab-df-container {\n",
              "      display:flex;\n",
              "      flex-wrap:wrap;\n",
              "      gap: 12px;\n",
              "    }\n",
              "\n",
              "    .colab-df-convert {\n",
              "      background-color: #E8F0FE;\n",
              "      border: none;\n",
              "      border-radius: 50%;\n",
              "      cursor: pointer;\n",
              "      display: none;\n",
              "      fill: #1967D2;\n",
              "      height: 32px;\n",
              "      padding: 0 0 0 0;\n",
              "      width: 32px;\n",
              "    }\n",
              "\n",
              "    .colab-df-convert:hover {\n",
              "      background-color: #E2EBFA;\n",
              "      box-shadow: 0px 1px 2px rgba(60, 64, 67, 0.3), 0px 1px 3px 1px rgba(60, 64, 67, 0.15);\n",
              "      fill: #174EA6;\n",
              "    }\n",
              "\n",
              "    [theme=dark] .colab-df-convert {\n",
              "      background-color: #3B4455;\n",
              "      fill: #D2E3FC;\n",
              "    }\n",
              "\n",
              "    [theme=dark] .colab-df-convert:hover {\n",
              "      background-color: #434B5C;\n",
              "      box-shadow: 0px 1px 3px 1px rgba(0, 0, 0, 0.15);\n",
              "      filter: drop-shadow(0px 1px 2px rgba(0, 0, 0, 0.3));\n",
              "      fill: #FFFFFF;\n",
              "    }\n",
              "  </style>\n",
              "\n",
              "      <script>\n",
              "        const buttonEl =\n",
              "          document.querySelector('#df-b41d39b5-6a9b-49a2-bf95-e48331d840b7 button.colab-df-convert');\n",
              "        buttonEl.style.display =\n",
              "          google.colab.kernel.accessAllowed ? 'block' : 'none';\n",
              "\n",
              "        async function convertToInteractive(key) {\n",
              "          const element = document.querySelector('#df-b41d39b5-6a9b-49a2-bf95-e48331d840b7');\n",
              "          const dataTable =\n",
              "            await google.colab.kernel.invokeFunction('convertToInteractive',\n",
              "                                                     [key], {});\n",
              "          if (!dataTable) return;\n",
              "\n",
              "          const docLinkHtml = 'Like what you see? Visit the ' +\n",
              "            '<a target=\"_blank\" href=https://colab.research.google.com/notebooks/data_table.ipynb>data table notebook</a>'\n",
              "            + ' to learn more about interactive tables.';\n",
              "          element.innerHTML = '';\n",
              "          dataTable['output_type'] = 'display_data';\n",
              "          await google.colab.output.renderOutput(dataTable, element);\n",
              "          const docLink = document.createElement('div');\n",
              "          docLink.innerHTML = docLinkHtml;\n",
              "          element.appendChild(docLink);\n",
              "        }\n",
              "      </script>\n",
              "    </div>\n",
              "  </div>\n",
              "  "
            ]
          },
          "metadata": {},
          "execution_count": 13
        }
      ],
      "source": [
        "dataset = dataset.drop(columns=['TRIMESTRE', 'DESCRICAO_GRUPO', 'UF', 'CIDADE', 'PIB', 'VARIACAO_DOLAR', 'INFLACAO'])\n",
        "dataset.sort_index(inplace=True)\n",
        "dataset"
      ]
    },
    {
      "cell_type": "code",
      "execution_count": 14,
      "id": "c6f99c2c-b3d8-473f-8d76-63645f6a9538",
      "metadata": {
        "id": "c6f99c2c-b3d8-473f-8d76-63645f6a9538"
      },
      "outputs": [],
      "source": [
        "dataset = dataset.loc[:, [\"VALOR\", \"ELEICAO_MUNICIPAL\", \"ELEICAO_FEDERAL\"]]"
      ]
    },
    {
      "cell_type": "code",
      "execution_count": 15,
      "id": "6205266a-58b7-4689-837b-b88c1d77df73",
      "metadata": {
        "colab": {
          "base_uri": "https://localhost:8080/",
          "height": 238
        },
        "id": "6205266a-58b7-4689-837b-b88c1d77df73",
        "outputId": "bb4ea815-6f0e-461d-b23e-3881cc8b192c"
      },
      "outputs": [
        {
          "output_type": "execute_result",
          "data": {
            "text/plain": [
              "                  y  ELEICAO_MUNICIPAL  ELEICAO_FEDERAL\n",
              "date                                                   \n",
              "2008-12-01   121.20                  1                0\n",
              "2008-12-01  8339.80                  1                0\n",
              "2008-12-01    60.00                  1                0\n",
              "2008-12-01  4361.90                  1                0\n",
              "2008-12-01   411.32                  1                0"
            ],
            "text/html": [
              "\n",
              "  <div id=\"df-2ac51734-02f1-4b87-8c8e-2cd82c218ccb\">\n",
              "    <div class=\"colab-df-container\">\n",
              "      <div>\n",
              "<style scoped>\n",
              "    .dataframe tbody tr th:only-of-type {\n",
              "        vertical-align: middle;\n",
              "    }\n",
              "\n",
              "    .dataframe tbody tr th {\n",
              "        vertical-align: top;\n",
              "    }\n",
              "\n",
              "    .dataframe thead th {\n",
              "        text-align: right;\n",
              "    }\n",
              "</style>\n",
              "<table border=\"1\" class=\"dataframe\">\n",
              "  <thead>\n",
              "    <tr style=\"text-align: right;\">\n",
              "      <th></th>\n",
              "      <th>y</th>\n",
              "      <th>ELEICAO_MUNICIPAL</th>\n",
              "      <th>ELEICAO_FEDERAL</th>\n",
              "    </tr>\n",
              "    <tr>\n",
              "      <th>date</th>\n",
              "      <th></th>\n",
              "      <th></th>\n",
              "      <th></th>\n",
              "    </tr>\n",
              "  </thead>\n",
              "  <tbody>\n",
              "    <tr>\n",
              "      <th>2008-12-01</th>\n",
              "      <td>121.20</td>\n",
              "      <td>1</td>\n",
              "      <td>0</td>\n",
              "    </tr>\n",
              "    <tr>\n",
              "      <th>2008-12-01</th>\n",
              "      <td>8339.80</td>\n",
              "      <td>1</td>\n",
              "      <td>0</td>\n",
              "    </tr>\n",
              "    <tr>\n",
              "      <th>2008-12-01</th>\n",
              "      <td>60.00</td>\n",
              "      <td>1</td>\n",
              "      <td>0</td>\n",
              "    </tr>\n",
              "    <tr>\n",
              "      <th>2008-12-01</th>\n",
              "      <td>4361.90</td>\n",
              "      <td>1</td>\n",
              "      <td>0</td>\n",
              "    </tr>\n",
              "    <tr>\n",
              "      <th>2008-12-01</th>\n",
              "      <td>411.32</td>\n",
              "      <td>1</td>\n",
              "      <td>0</td>\n",
              "    </tr>\n",
              "  </tbody>\n",
              "</table>\n",
              "</div>\n",
              "      <button class=\"colab-df-convert\" onclick=\"convertToInteractive('df-2ac51734-02f1-4b87-8c8e-2cd82c218ccb')\"\n",
              "              title=\"Convert this dataframe to an interactive table.\"\n",
              "              style=\"display:none;\">\n",
              "        \n",
              "  <svg xmlns=\"http://www.w3.org/2000/svg\" height=\"24px\"viewBox=\"0 0 24 24\"\n",
              "       width=\"24px\">\n",
              "    <path d=\"M0 0h24v24H0V0z\" fill=\"none\"/>\n",
              "    <path d=\"M18.56 5.44l.94 2.06.94-2.06 2.06-.94-2.06-.94-.94-2.06-.94 2.06-2.06.94zm-11 1L8.5 8.5l.94-2.06 2.06-.94-2.06-.94L8.5 2.5l-.94 2.06-2.06.94zm10 10l.94 2.06.94-2.06 2.06-.94-2.06-.94-.94-2.06-.94 2.06-2.06.94z\"/><path d=\"M17.41 7.96l-1.37-1.37c-.4-.4-.92-.59-1.43-.59-.52 0-1.04.2-1.43.59L10.3 9.45l-7.72 7.72c-.78.78-.78 2.05 0 2.83L4 21.41c.39.39.9.59 1.41.59.51 0 1.02-.2 1.41-.59l7.78-7.78 2.81-2.81c.8-.78.8-2.07 0-2.86zM5.41 20L4 18.59l7.72-7.72 1.47 1.35L5.41 20z\"/>\n",
              "  </svg>\n",
              "      </button>\n",
              "      \n",
              "  <style>\n",
              "    .colab-df-container {\n",
              "      display:flex;\n",
              "      flex-wrap:wrap;\n",
              "      gap: 12px;\n",
              "    }\n",
              "\n",
              "    .colab-df-convert {\n",
              "      background-color: #E8F0FE;\n",
              "      border: none;\n",
              "      border-radius: 50%;\n",
              "      cursor: pointer;\n",
              "      display: none;\n",
              "      fill: #1967D2;\n",
              "      height: 32px;\n",
              "      padding: 0 0 0 0;\n",
              "      width: 32px;\n",
              "    }\n",
              "\n",
              "    .colab-df-convert:hover {\n",
              "      background-color: #E2EBFA;\n",
              "      box-shadow: 0px 1px 2px rgba(60, 64, 67, 0.3), 0px 1px 3px 1px rgba(60, 64, 67, 0.15);\n",
              "      fill: #174EA6;\n",
              "    }\n",
              "\n",
              "    [theme=dark] .colab-df-convert {\n",
              "      background-color: #3B4455;\n",
              "      fill: #D2E3FC;\n",
              "    }\n",
              "\n",
              "    [theme=dark] .colab-df-convert:hover {\n",
              "      background-color: #434B5C;\n",
              "      box-shadow: 0px 1px 3px 1px rgba(0, 0, 0, 0.15);\n",
              "      filter: drop-shadow(0px 1px 2px rgba(0, 0, 0, 0.3));\n",
              "      fill: #FFFFFF;\n",
              "    }\n",
              "  </style>\n",
              "\n",
              "      <script>\n",
              "        const buttonEl =\n",
              "          document.querySelector('#df-2ac51734-02f1-4b87-8c8e-2cd82c218ccb button.colab-df-convert');\n",
              "        buttonEl.style.display =\n",
              "          google.colab.kernel.accessAllowed ? 'block' : 'none';\n",
              "\n",
              "        async function convertToInteractive(key) {\n",
              "          const element = document.querySelector('#df-2ac51734-02f1-4b87-8c8e-2cd82c218ccb');\n",
              "          const dataTable =\n",
              "            await google.colab.kernel.invokeFunction('convertToInteractive',\n",
              "                                                     [key], {});\n",
              "          if (!dataTable) return;\n",
              "\n",
              "          const docLinkHtml = 'Like what you see? Visit the ' +\n",
              "            '<a target=\"_blank\" href=https://colab.research.google.com/notebooks/data_table.ipynb>data table notebook</a>'\n",
              "            + ' to learn more about interactive tables.';\n",
              "          element.innerHTML = '';\n",
              "          dataTable['output_type'] = 'display_data';\n",
              "          await google.colab.output.renderOutput(dataTable, element);\n",
              "          const docLink = document.createElement('div');\n",
              "          docLink.innerHTML = docLinkHtml;\n",
              "          element.appendChild(docLink);\n",
              "        }\n",
              "      </script>\n",
              "    </div>\n",
              "  </div>\n",
              "  "
            ]
          },
          "metadata": {},
          "execution_count": 15
        }
      ],
      "source": [
        "dataset = dataset.rename(columns = {'VALOR' : 'y'})\n",
        "dataset.head()"
      ]
    },
    {
      "cell_type": "code",
      "execution_count": 16,
      "id": "0a5ec75a-45c5-4425-a9b9-9e5452c3cde7",
      "metadata": {
        "colab": {
          "base_uri": "https://localhost:8080/",
          "height": 455
        },
        "id": "0a5ec75a-45c5-4425-a9b9-9e5452c3cde7",
        "outputId": "f74e72f7-cee4-43df-9328-244428f2edad"
      },
      "outputs": [
        {
          "output_type": "execute_result",
          "data": {
            "text/plain": [
              "                      y  ELEICAO_MUNICIPAL  ELEICAO_FEDERAL\n",
              "date                                                       \n",
              "2008-12-01  2124.826051                1.0              0.0\n",
              "2009-01-01  1365.677737                0.0              0.0\n",
              "2009-02-01  1442.712601                0.0              0.0\n",
              "2009-03-01  2351.546014                0.0              0.0\n",
              "2009-04-01  2144.901965                0.0              0.0\n",
              "...                 ...                ...              ...\n",
              "2022-04-01  3529.909354                0.0              1.0\n",
              "2022-05-01  3839.075501                0.0              1.0\n",
              "2022-06-01  3588.479445                0.0              1.0\n",
              "2022-07-01  3614.614134                0.0              1.0\n",
              "2022-08-01  4335.977196                0.0              1.0\n",
              "\n",
              "[165 rows x 3 columns]"
            ],
            "text/html": [
              "\n",
              "  <div id=\"df-9581eac1-6f1a-43ea-a790-169daec409df\">\n",
              "    <div class=\"colab-df-container\">\n",
              "      <div>\n",
              "<style scoped>\n",
              "    .dataframe tbody tr th:only-of-type {\n",
              "        vertical-align: middle;\n",
              "    }\n",
              "\n",
              "    .dataframe tbody tr th {\n",
              "        vertical-align: top;\n",
              "    }\n",
              "\n",
              "    .dataframe thead th {\n",
              "        text-align: right;\n",
              "    }\n",
              "</style>\n",
              "<table border=\"1\" class=\"dataframe\">\n",
              "  <thead>\n",
              "    <tr style=\"text-align: right;\">\n",
              "      <th></th>\n",
              "      <th>y</th>\n",
              "      <th>ELEICAO_MUNICIPAL</th>\n",
              "      <th>ELEICAO_FEDERAL</th>\n",
              "    </tr>\n",
              "    <tr>\n",
              "      <th>date</th>\n",
              "      <th></th>\n",
              "      <th></th>\n",
              "      <th></th>\n",
              "    </tr>\n",
              "  </thead>\n",
              "  <tbody>\n",
              "    <tr>\n",
              "      <th>2008-12-01</th>\n",
              "      <td>2124.826051</td>\n",
              "      <td>1.0</td>\n",
              "      <td>0.0</td>\n",
              "    </tr>\n",
              "    <tr>\n",
              "      <th>2009-01-01</th>\n",
              "      <td>1365.677737</td>\n",
              "      <td>0.0</td>\n",
              "      <td>0.0</td>\n",
              "    </tr>\n",
              "    <tr>\n",
              "      <th>2009-02-01</th>\n",
              "      <td>1442.712601</td>\n",
              "      <td>0.0</td>\n",
              "      <td>0.0</td>\n",
              "    </tr>\n",
              "    <tr>\n",
              "      <th>2009-03-01</th>\n",
              "      <td>2351.546014</td>\n",
              "      <td>0.0</td>\n",
              "      <td>0.0</td>\n",
              "    </tr>\n",
              "    <tr>\n",
              "      <th>2009-04-01</th>\n",
              "      <td>2144.901965</td>\n",
              "      <td>0.0</td>\n",
              "      <td>0.0</td>\n",
              "    </tr>\n",
              "    <tr>\n",
              "      <th>...</th>\n",
              "      <td>...</td>\n",
              "      <td>...</td>\n",
              "      <td>...</td>\n",
              "    </tr>\n",
              "    <tr>\n",
              "      <th>2022-04-01</th>\n",
              "      <td>3529.909354</td>\n",
              "      <td>0.0</td>\n",
              "      <td>1.0</td>\n",
              "    </tr>\n",
              "    <tr>\n",
              "      <th>2022-05-01</th>\n",
              "      <td>3839.075501</td>\n",
              "      <td>0.0</td>\n",
              "      <td>1.0</td>\n",
              "    </tr>\n",
              "    <tr>\n",
              "      <th>2022-06-01</th>\n",
              "      <td>3588.479445</td>\n",
              "      <td>0.0</td>\n",
              "      <td>1.0</td>\n",
              "    </tr>\n",
              "    <tr>\n",
              "      <th>2022-07-01</th>\n",
              "      <td>3614.614134</td>\n",
              "      <td>0.0</td>\n",
              "      <td>1.0</td>\n",
              "    </tr>\n",
              "    <tr>\n",
              "      <th>2022-08-01</th>\n",
              "      <td>4335.977196</td>\n",
              "      <td>0.0</td>\n",
              "      <td>1.0</td>\n",
              "    </tr>\n",
              "  </tbody>\n",
              "</table>\n",
              "<p>165 rows × 3 columns</p>\n",
              "</div>\n",
              "      <button class=\"colab-df-convert\" onclick=\"convertToInteractive('df-9581eac1-6f1a-43ea-a790-169daec409df')\"\n",
              "              title=\"Convert this dataframe to an interactive table.\"\n",
              "              style=\"display:none;\">\n",
              "        \n",
              "  <svg xmlns=\"http://www.w3.org/2000/svg\" height=\"24px\"viewBox=\"0 0 24 24\"\n",
              "       width=\"24px\">\n",
              "    <path d=\"M0 0h24v24H0V0z\" fill=\"none\"/>\n",
              "    <path d=\"M18.56 5.44l.94 2.06.94-2.06 2.06-.94-2.06-.94-.94-2.06-.94 2.06-2.06.94zm-11 1L8.5 8.5l.94-2.06 2.06-.94-2.06-.94L8.5 2.5l-.94 2.06-2.06.94zm10 10l.94 2.06.94-2.06 2.06-.94-2.06-.94-.94-2.06-.94 2.06-2.06.94z\"/><path d=\"M17.41 7.96l-1.37-1.37c-.4-.4-.92-.59-1.43-.59-.52 0-1.04.2-1.43.59L10.3 9.45l-7.72 7.72c-.78.78-.78 2.05 0 2.83L4 21.41c.39.39.9.59 1.41.59.51 0 1.02-.2 1.41-.59l7.78-7.78 2.81-2.81c.8-.78.8-2.07 0-2.86zM5.41 20L4 18.59l7.72-7.72 1.47 1.35L5.41 20z\"/>\n",
              "  </svg>\n",
              "      </button>\n",
              "      \n",
              "  <style>\n",
              "    .colab-df-container {\n",
              "      display:flex;\n",
              "      flex-wrap:wrap;\n",
              "      gap: 12px;\n",
              "    }\n",
              "\n",
              "    .colab-df-convert {\n",
              "      background-color: #E8F0FE;\n",
              "      border: none;\n",
              "      border-radius: 50%;\n",
              "      cursor: pointer;\n",
              "      display: none;\n",
              "      fill: #1967D2;\n",
              "      height: 32px;\n",
              "      padding: 0 0 0 0;\n",
              "      width: 32px;\n",
              "    }\n",
              "\n",
              "    .colab-df-convert:hover {\n",
              "      background-color: #E2EBFA;\n",
              "      box-shadow: 0px 1px 2px rgba(60, 64, 67, 0.3), 0px 1px 3px 1px rgba(60, 64, 67, 0.15);\n",
              "      fill: #174EA6;\n",
              "    }\n",
              "\n",
              "    [theme=dark] .colab-df-convert {\n",
              "      background-color: #3B4455;\n",
              "      fill: #D2E3FC;\n",
              "    }\n",
              "\n",
              "    [theme=dark] .colab-df-convert:hover {\n",
              "      background-color: #434B5C;\n",
              "      box-shadow: 0px 1px 3px 1px rgba(0, 0, 0, 0.15);\n",
              "      filter: drop-shadow(0px 1px 2px rgba(0, 0, 0, 0.3));\n",
              "      fill: #FFFFFF;\n",
              "    }\n",
              "  </style>\n",
              "\n",
              "      <script>\n",
              "        const buttonEl =\n",
              "          document.querySelector('#df-9581eac1-6f1a-43ea-a790-169daec409df button.colab-df-convert');\n",
              "        buttonEl.style.display =\n",
              "          google.colab.kernel.accessAllowed ? 'block' : 'none';\n",
              "\n",
              "        async function convertToInteractive(key) {\n",
              "          const element = document.querySelector('#df-9581eac1-6f1a-43ea-a790-169daec409df');\n",
              "          const dataTable =\n",
              "            await google.colab.kernel.invokeFunction('convertToInteractive',\n",
              "                                                     [key], {});\n",
              "          if (!dataTable) return;\n",
              "\n",
              "          const docLinkHtml = 'Like what you see? Visit the ' +\n",
              "            '<a target=\"_blank\" href=https://colab.research.google.com/notebooks/data_table.ipynb>data table notebook</a>'\n",
              "            + ' to learn more about interactive tables.';\n",
              "          element.innerHTML = '';\n",
              "          dataTable['output_type'] = 'display_data';\n",
              "          await google.colab.output.renderOutput(dataTable, element);\n",
              "          const docLink = document.createElement('div');\n",
              "          docLink.innerHTML = docLinkHtml;\n",
              "          element.appendChild(docLink);\n",
              "        }\n",
              "      </script>\n",
              "    </div>\n",
              "  </div>\n",
              "  "
            ]
          },
          "metadata": {},
          "execution_count": 16
        }
      ],
      "source": [
        "dataset = dataset.resample('MS').mean()\n",
        "dataset"
      ]
    },
    {
      "cell_type": "markdown",
      "id": "0826b3b0-7855-4e88-999a-642141ce7c6c",
      "metadata": {
        "id": "0826b3b0-7855-4e88-999a-642141ce7c6c"
      },
      "source": [
        "# Visualização"
      ]
    },
    {
      "cell_type": "code",
      "execution_count": 17,
      "id": "762e217a-2c59-4da1-b322-17cf0c31384d",
      "metadata": {
        "colab": {
          "base_uri": "https://localhost:8080/",
          "height": 442
        },
        "id": "762e217a-2c59-4da1-b322-17cf0c31384d",
        "outputId": "54633748-a404-4bb5-8e37-f1e05b550f40"
      },
      "outputs": [
        {
          "output_type": "display_data",
          "data": {
            "text/plain": [
              "<Figure size 720x504 with 1 Axes>"
            ],
            "image/png": "[encoded data removed]"
          },
          "metadata": {
            "needs_background": "light"
          }
        }
      ],
      "source": [
        "#viz\n",
        "dataset[\"y\"].plot(figsize = (10, 7), legend = True)\n",
        "plt.show()"
      ]
    },
    {
      "cell_type": "markdown",
      "id": "1177576c-ec1d-4788-9651-3dc23545ee1e",
      "metadata": {
        "id": "1177576c-ec1d-4788-9651-3dc23545ee1e"
      },
      "source": [
        "# Training and Test Set"
      ]
    },
    {
      "cell_type": "code",
      "execution_count": 18,
      "id": "c48ba364-3bcb-4f9f-b0ad-90cc79232b56",
      "metadata": {
        "colab": {
          "base_uri": "https://localhost:8080/",
          "height": 457
        },
        "id": "c48ba364-3bcb-4f9f-b0ad-90cc79232b56",
        "outputId": "2987b373-d8be-4ca3-b1bf-4979fd5dc153"
      },
      "outputs": [
        {
          "output_type": "execute_result",
          "data": {
            "text/plain": [
              "                      y  ELEICAO_MUNICIPAL  ELEICAO_FEDERAL\n",
              "date                                                       \n",
              "2021-09-01  3931.137219                0.0              0.0\n",
              "2021-10-01  3710.122383                0.0              0.0\n",
              "2021-11-01  3296.592830                0.0              0.0\n",
              "2021-12-01  3427.125288                0.0              0.0\n",
              "2022-01-01  3768.733612                0.0              1.0\n",
              "2022-02-01  4644.960285                0.0              1.0\n",
              "2022-03-01  3736.601278                0.0              1.0\n",
              "2022-04-01  3529.909354                0.0              1.0\n",
              "2022-05-01  3839.075501                0.0              1.0\n",
              "2022-06-01  3588.479445                0.0              1.0\n",
              "2022-07-01  3614.614134                0.0              1.0\n",
              "2022-08-01  4335.977196                0.0              1.0"
            ],
            "text/html": [
              "\n",
              "  <div id=\"df-f8c07ff7-7332-4966-b273-6cc1183bb8bf\">\n",
              "    <div class=\"colab-df-container\">\n",
              "      <div>\n",
              "<style scoped>\n",
              "    .dataframe tbody tr th:only-of-type {\n",
              "        vertical-align: middle;\n",
              "    }\n",
              "\n",
              "    .dataframe tbody tr th {\n",
              "        vertical-align: top;\n",
              "    }\n",
              "\n",
              "    .dataframe thead th {\n",
              "        text-align: right;\n",
              "    }\n",
              "</style>\n",
              "<table border=\"1\" class=\"dataframe\">\n",
              "  <thead>\n",
              "    <tr style=\"text-align: right;\">\n",
              "      <th></th>\n",
              "      <th>y</th>\n",
              "      <th>ELEICAO_MUNICIPAL</th>\n",
              "      <th>ELEICAO_FEDERAL</th>\n",
              "    </tr>\n",
              "    <tr>\n",
              "      <th>date</th>\n",
              "      <th></th>\n",
              "      <th></th>\n",
              "      <th></th>\n",
              "    </tr>\n",
              "  </thead>\n",
              "  <tbody>\n",
              "    <tr>\n",
              "      <th>2021-09-01</th>\n",
              "      <td>3931.137219</td>\n",
              "      <td>0.0</td>\n",
              "      <td>0.0</td>\n",
              "    </tr>\n",
              "    <tr>\n",
              "      <th>2021-10-01</th>\n",
              "      <td>3710.122383</td>\n",
              "      <td>0.0</td>\n",
              "      <td>0.0</td>\n",
              "    </tr>\n",
              "    <tr>\n",
              "      <th>2021-11-01</th>\n",
              "      <td>3296.592830</td>\n",
              "      <td>0.0</td>\n",
              "      <td>0.0</td>\n",
              "    </tr>\n",
              "    <tr>\n",
              "      <th>2021-12-01</th>\n",
              "      <td>3427.125288</td>\n",
              "      <td>0.0</td>\n",
              "      <td>0.0</td>\n",
              "    </tr>\n",
              "    <tr>\n",
              "      <th>2022-01-01</th>\n",
              "      <td>3768.733612</td>\n",
              "      <td>0.0</td>\n",
              "      <td>1.0</td>\n",
              "    </tr>\n",
              "    <tr>\n",
              "      <th>2022-02-01</th>\n",
              "      <td>4644.960285</td>\n",
              "      <td>0.0</td>\n",
              "      <td>1.0</td>\n",
              "    </tr>\n",
              "    <tr>\n",
              "      <th>2022-03-01</th>\n",
              "      <td>3736.601278</td>\n",
              "      <td>0.0</td>\n",
              "      <td>1.0</td>\n",
              "    </tr>\n",
              "    <tr>\n",
              "      <th>2022-04-01</th>\n",
              "      <td>3529.909354</td>\n",
              "      <td>0.0</td>\n",
              "      <td>1.0</td>\n",
              "    </tr>\n",
              "    <tr>\n",
              "      <th>2022-05-01</th>\n",
              "      <td>3839.075501</td>\n",
              "      <td>0.0</td>\n",
              "      <td>1.0</td>\n",
              "    </tr>\n",
              "    <tr>\n",
              "      <th>2022-06-01</th>\n",
              "      <td>3588.479445</td>\n",
              "      <td>0.0</td>\n",
              "      <td>1.0</td>\n",
              "    </tr>\n",
              "    <tr>\n",
              "      <th>2022-07-01</th>\n",
              "      <td>3614.614134</td>\n",
              "      <td>0.0</td>\n",
              "      <td>1.0</td>\n",
              "    </tr>\n",
              "    <tr>\n",
              "      <th>2022-08-01</th>\n",
              "      <td>4335.977196</td>\n",
              "      <td>0.0</td>\n",
              "      <td>1.0</td>\n",
              "    </tr>\n",
              "  </tbody>\n",
              "</table>\n",
              "</div>\n",
              "      <button class=\"colab-df-convert\" onclick=\"convertToInteractive('df-f8c07ff7-7332-4966-b273-6cc1183bb8bf')\"\n",
              "              title=\"Convert this dataframe to an interactive table.\"\n",
              "              style=\"display:none;\">\n",
              "        \n",
              "  <svg xmlns=\"http://www.w3.org/2000/svg\" height=\"24px\"viewBox=\"0 0 24 24\"\n",
              "       width=\"24px\">\n",
              "    <path d=\"M0 0h24v24H0V0z\" fill=\"none\"/>\n",
              "    <path d=\"M18.56 5.44l.94 2.06.94-2.06 2.06-.94-2.06-.94-.94-2.06-.94 2.06-2.06.94zm-11 1L8.5 8.5l.94-2.06 2.06-.94-2.06-.94L8.5 2.5l-.94 2.06-2.06.94zm10 10l.94 2.06.94-2.06 2.06-.94-2.06-.94-.94-2.06-.94 2.06-2.06.94z\"/><path d=\"M17.41 7.96l-1.37-1.37c-.4-.4-.92-.59-1.43-.59-.52 0-1.04.2-1.43.59L10.3 9.45l-7.72 7.72c-.78.78-.78 2.05 0 2.83L4 21.41c.39.39.9.59 1.41.59.51 0 1.02-.2 1.41-.59l7.78-7.78 2.81-2.81c.8-.78.8-2.07 0-2.86zM5.41 20L4 18.59l7.72-7.72 1.47 1.35L5.41 20z\"/>\n",
              "  </svg>\n",
              "      </button>\n",
              "      \n",
              "  <style>\n",
              "    .colab-df-container {\n",
              "      display:flex;\n",
              "      flex-wrap:wrap;\n",
              "      gap: 12px;\n",
              "    }\n",
              "\n",
              "    .colab-df-convert {\n",
              "      background-color: #E8F0FE;\n",
              "      border: none;\n",
              "      border-radius: 50%;\n",
              "      cursor: pointer;\n",
              "      display: none;\n",
              "      fill: #1967D2;\n",
              "      height: 32px;\n",
              "      padding: 0 0 0 0;\n",
              "      width: 32px;\n",
              "    }\n",
              "\n",
              "    .colab-df-convert:hover {\n",
              "      background-color: #E2EBFA;\n",
              "      box-shadow: 0px 1px 2px rgba(60, 64, 67, 0.3), 0px 1px 3px 1px rgba(60, 64, 67, 0.15);\n",
              "      fill: #174EA6;\n",
              "    }\n",
              "\n",
              "    [theme=dark] .colab-df-convert {\n",
              "      background-color: #3B4455;\n",
              "      fill: #D2E3FC;\n",
              "    }\n",
              "\n",
              "    [theme=dark] .colab-df-convert:hover {\n",
              "      background-color: #434B5C;\n",
              "      box-shadow: 0px 1px 3px 1px rgba(0, 0, 0, 0.15);\n",
              "      filter: drop-shadow(0px 1px 2px rgba(0, 0, 0, 0.3));\n",
              "      fill: #FFFFFF;\n",
              "    }\n",
              "  </style>\n",
              "\n",
              "      <script>\n",
              "        const buttonEl =\n",
              "          document.querySelector('#df-f8c07ff7-7332-4966-b273-6cc1183bb8bf button.colab-df-convert');\n",
              "        buttonEl.style.display =\n",
              "          google.colab.kernel.accessAllowed ? 'block' : 'none';\n",
              "\n",
              "        async function convertToInteractive(key) {\n",
              "          const element = document.querySelector('#df-f8c07ff7-7332-4966-b273-6cc1183bb8bf');\n",
              "          const dataTable =\n",
              "            await google.colab.kernel.invokeFunction('convertToInteractive',\n",
              "                                                     [key], {});\n",
              "          if (!dataTable) return;\n",
              "\n",
              "          const docLinkHtml = 'Like what you see? Visit the ' +\n",
              "            '<a target=\"_blank\" href=https://colab.research.google.com/notebooks/data_table.ipynb>data table notebook</a>'\n",
              "            + ' to learn more about interactive tables.';\n",
              "          element.innerHTML = '';\n",
              "          dataTable['output_type'] = 'display_data';\n",
              "          await google.colab.output.renderOutput(dataTable, element);\n",
              "          const docLink = document.createElement('div');\n",
              "          docLink.innerHTML = docLinkHtml;\n",
              "          element.appendChild(docLink);\n",
              "        }\n",
              "      </script>\n",
              "    </div>\n",
              "  </div>\n",
              "  "
            ]
          },
          "metadata": {},
          "execution_count": 18
        }
      ],
      "source": [
        "test_months = 12\n",
        "training_set = dataset.iloc[:-test_months, :]\n",
        "test_set = dataset.iloc[-test_months:, :]\n",
        "test_set"
      ]
    },
    {
      "cell_type": "code",
      "execution_count": 19,
      "id": "8ec9d800-97e6-47dd-bf26-1a8be3e08a17",
      "metadata": {
        "colab": {
          "base_uri": "https://localhost:8080/",
          "height": 455
        },
        "id": "8ec9d800-97e6-47dd-bf26-1a8be3e08a17",
        "outputId": "5b81856a-d6c5-489a-da4a-8114a8c95126"
      },
      "outputs": [
        {
          "output_type": "execute_result",
          "data": {
            "text/plain": [
              "                      y  ELEICAO_MUNICIPAL  ELEICAO_FEDERAL\n",
              "date                                                       \n",
              "2008-12-01  2124.826051                1.0              0.0\n",
              "2009-01-01  1365.677737                0.0              0.0\n",
              "2009-02-01  1442.712601                0.0              0.0\n",
              "2009-03-01  2351.546014                0.0              0.0\n",
              "2009-04-01  2144.901965                0.0              0.0\n",
              "...                 ...                ...              ...\n",
              "2021-04-01  4408.051057                0.0              0.0\n",
              "2021-05-01  3630.518542                0.0              0.0\n",
              "2021-06-01  4799.527276                0.0              0.0\n",
              "2021-07-01  4026.993576                0.0              0.0\n",
              "2021-08-01  3839.623568                0.0              0.0\n",
              "\n",
              "[153 rows x 3 columns]"
            ],
            "text/html": [
              "\n",
              "  <div id=\"df-955329ac-f011-44a6-bc4b-14c251fe64d5\">\n",
              "    <div class=\"colab-df-container\">\n",
              "      <div>\n",
              "<style scoped>\n",
              "    .dataframe tbody tr th:only-of-type {\n",
              "        vertical-align: middle;\n",
              "    }\n",
              "\n",
              "    .dataframe tbody tr th {\n",
              "        vertical-align: top;\n",
              "    }\n",
              "\n",
              "    .dataframe thead th {\n",
              "        text-align: right;\n",
              "    }\n",
              "</style>\n",
              "<table border=\"1\" class=\"dataframe\">\n",
              "  <thead>\n",
              "    <tr style=\"text-align: right;\">\n",
              "      <th></th>\n",
              "      <th>y</th>\n",
              "      <th>ELEICAO_MUNICIPAL</th>\n",
              "      <th>ELEICAO_FEDERAL</th>\n",
              "    </tr>\n",
              "    <tr>\n",
              "      <th>date</th>\n",
              "      <th></th>\n",
              "      <th></th>\n",
              "      <th></th>\n",
              "    </tr>\n",
              "  </thead>\n",
              "  <tbody>\n",
              "    <tr>\n",
              "      <th>2008-12-01</th>\n",
              "      <td>2124.826051</td>\n",
              "      <td>1.0</td>\n",
              "      <td>0.0</td>\n",
              "    </tr>\n",
              "    <tr>\n",
              "      <th>2009-01-01</th>\n",
              "      <td>1365.677737</td>\n",
              "      <td>0.0</td>\n",
              "      <td>0.0</td>\n",
              "    </tr>\n",
              "    <tr>\n",
              "      <th>2009-02-01</th>\n",
              "      <td>1442.712601</td>\n",
              "      <td>0.0</td>\n",
              "      <td>0.0</td>\n",
              "    </tr>\n",
              "    <tr>\n",
              "      <th>2009-03-01</th>\n",
              "      <td>2351.546014</td>\n",
              "      <td>0.0</td>\n",
              "      <td>0.0</td>\n",
              "    </tr>\n",
              "    <tr>\n",
              "      <th>2009-04-01</th>\n",
              "      <td>2144.901965</td>\n",
              "      <td>0.0</td>\n",
              "      <td>0.0</td>\n",
              "    </tr>\n",
              "    <tr>\n",
              "      <th>...</th>\n",
              "      <td>...</td>\n",
              "      <td>...</td>\n",
              "      <td>...</td>\n",
              "    </tr>\n",
              "    <tr>\n",
              "      <th>2021-04-01</th>\n",
              "      <td>4408.051057</td>\n",
              "      <td>0.0</td>\n",
              "      <td>0.0</td>\n",
              "    </tr>\n",
              "    <tr>\n",
              "      <th>2021-05-01</th>\n",
              "      <td>3630.518542</td>\n",
              "      <td>0.0</td>\n",
              "      <td>0.0</td>\n",
              "    </tr>\n",
              "    <tr>\n",
              "      <th>2021-06-01</th>\n",
              "      <td>4799.527276</td>\n",
              "      <td>0.0</td>\n",
              "      <td>0.0</td>\n",
              "    </tr>\n",
              "    <tr>\n",
              "      <th>2021-07-01</th>\n",
              "      <td>4026.993576</td>\n",
              "      <td>0.0</td>\n",
              "      <td>0.0</td>\n",
              "    </tr>\n",
              "    <tr>\n",
              "      <th>2021-08-01</th>\n",
              "      <td>3839.623568</td>\n",
              "      <td>0.0</td>\n",
              "      <td>0.0</td>\n",
              "    </tr>\n",
              "  </tbody>\n",
              "</table>\n",
              "<p>153 rows × 3 columns</p>\n",
              "</div>\n",
              "      <button class=\"colab-df-convert\" onclick=\"convertToInteractive('df-955329ac-f011-44a6-bc4b-14c251fe64d5')\"\n",
              "              title=\"Convert this dataframe to an interactive table.\"\n",
              "              style=\"display:none;\">\n",
              "        \n",
              "  <svg xmlns=\"http://www.w3.org/2000/svg\" height=\"24px\"viewBox=\"0 0 24 24\"\n",
              "       width=\"24px\">\n",
              "    <path d=\"M0 0h24v24H0V0z\" fill=\"none\"/>\n",
              "    <path d=\"M18.56 5.44l.94 2.06.94-2.06 2.06-.94-2.06-.94-.94-2.06-.94 2.06-2.06.94zm-11 1L8.5 8.5l.94-2.06 2.06-.94-2.06-.94L8.5 2.5l-.94 2.06-2.06.94zm10 10l.94 2.06.94-2.06 2.06-.94-2.06-.94-.94-2.06-.94 2.06-2.06.94z\"/><path d=\"M17.41 7.96l-1.37-1.37c-.4-.4-.92-.59-1.43-.59-.52 0-1.04.2-1.43.59L10.3 9.45l-7.72 7.72c-.78.78-.78 2.05 0 2.83L4 21.41c.39.39.9.59 1.41.59.51 0 1.02-.2 1.41-.59l7.78-7.78 2.81-2.81c.8-.78.8-2.07 0-2.86zM5.41 20L4 18.59l7.72-7.72 1.47 1.35L5.41 20z\"/>\n",
              "  </svg>\n",
              "      </button>\n",
              "      \n",
              "  <style>\n",
              "    .colab-df-container {\n",
              "      display:flex;\n",
              "      flex-wrap:wrap;\n",
              "      gap: 12px;\n",
              "    }\n",
              "\n",
              "    .colab-df-convert {\n",
              "      background-color: #E8F0FE;\n",
              "      border: none;\n",
              "      border-radius: 50%;\n",
              "      cursor: pointer;\n",
              "      display: none;\n",
              "      fill: #1967D2;\n",
              "      height: 32px;\n",
              "      padding: 0 0 0 0;\n",
              "      width: 32px;\n",
              "    }\n",
              "\n",
              "    .colab-df-convert:hover {\n",
              "      background-color: #E2EBFA;\n",
              "      box-shadow: 0px 1px 2px rgba(60, 64, 67, 0.3), 0px 1px 3px 1px rgba(60, 64, 67, 0.15);\n",
              "      fill: #174EA6;\n",
              "    }\n",
              "\n",
              "    [theme=dark] .colab-df-convert {\n",
              "      background-color: #3B4455;\n",
              "      fill: #D2E3FC;\n",
              "    }\n",
              "\n",
              "    [theme=dark] .colab-df-convert:hover {\n",
              "      background-color: #434B5C;\n",
              "      box-shadow: 0px 1px 3px 1px rgba(0, 0, 0, 0.15);\n",
              "      filter: drop-shadow(0px 1px 2px rgba(0, 0, 0, 0.3));\n",
              "      fill: #FFFFFF;\n",
              "    }\n",
              "  </style>\n",
              "\n",
              "      <script>\n",
              "        const buttonEl =\n",
              "          document.querySelector('#df-955329ac-f011-44a6-bc4b-14c251fe64d5 button.colab-df-convert');\n",
              "        buttonEl.style.display =\n",
              "          google.colab.kernel.accessAllowed ? 'block' : 'none';\n",
              "\n",
              "        async function convertToInteractive(key) {\n",
              "          const element = document.querySelector('#df-955329ac-f011-44a6-bc4b-14c251fe64d5');\n",
              "          const dataTable =\n",
              "            await google.colab.kernel.invokeFunction('convertToInteractive',\n",
              "                                                     [key], {});\n",
              "          if (!dataTable) return;\n",
              "\n",
              "          const docLinkHtml = 'Like what you see? Visit the ' +\n",
              "            '<a target=\"_blank\" href=https://colab.research.google.com/notebooks/data_table.ipynb>data table notebook</a>'\n",
              "            + ' to learn more about interactive tables.';\n",
              "          element.innerHTML = '';\n",
              "          dataTable['output_type'] = 'display_data';\n",
              "          await google.colab.output.renderOutput(dataTable, element);\n",
              "          const docLink = document.createElement('div');\n",
              "          docLink.innerHTML = docLinkHtml;\n",
              "          element.appendChild(docLink);\n",
              "        }\n",
              "      </script>\n",
              "    </div>\n",
              "  </div>\n",
              "  "
            ]
          },
          "metadata": {},
          "execution_count": 19
        }
      ],
      "source": [
        "training_set"
      ]
    },
    {
      "cell_type": "markdown",
      "id": "51a5633e-f4ea-44e6-a25d-ea0e3153110c",
      "metadata": {
        "id": "51a5633e-f4ea-44e6-a25d-ea0e3153110c"
      },
      "source": [
        "# Holt-Winters (Triple Exponential Smoothing)"
      ]
    },
    {
      "cell_type": "code",
      "execution_count": 20,
      "id": "827c392e-7bec-4910-a366-06d297908328",
      "metadata": {
        "id": "827c392e-7bec-4910-a366-06d297908328"
      },
      "outputs": [],
      "source": [
        "#libraries\n",
        "from statsmodels.tsa.holtwinters import ExponentialSmoothing"
      ]
    },
    {
      "cell_type": "code",
      "execution_count": 42,
      "id": "2226e2f3-bef5-4139-98eb-cab2c88f1729",
      "metadata": {
        "colab": {
          "base_uri": "https://localhost:8080/"
        },
        "id": "2226e2f3-bef5-4139-98eb-cab2c88f1729",
        "outputId": "09c0fcc2-183d-4ffa-830a-df5b1769878c"
      },
      "outputs": [
        {
          "output_type": "stream",
          "name": "stderr",
          "text": [
            "/usr/local/lib/python3.7/dist-packages/statsmodels/tsa/holtwinters/model.py:917: ConvergenceWarning: Optimization failed to converge. Check mle_retvals.\n",
            "  ConvergenceWarning,\n"
          ]
        }
      ],
      "source": [
        "#forecasting model\n",
        "model = ExponentialSmoothing(endog = training_set.y,\n",
        "                             trend = 'mul',\n",
        "                             seasonal = 'mul',\n",
        "                            seasonal_periods = 30).fit()"
      ]
    },
    {
      "cell_type": "code",
      "execution_count": 43,
      "id": "f11f47c0-89c3-4caf-ac22-ee4906749ade",
      "metadata": {
        "colab": {
          "base_uri": "https://localhost:8080/"
        },
        "id": "f11f47c0-89c3-4caf-ac22-ee4906749ade",
        "outputId": "26893f2a-5cf3-43a3-a0da-671ecf16a32e"
      },
      "outputs": [
        {
          "output_type": "execute_result",
          "data": {
            "text/plain": [
              "2021-09-01    3994.384206\n",
              "2021-10-01    4127.247453\n",
              "2021-11-01    4457.422661\n",
              "2021-12-01    4077.804281\n",
              "2022-01-01    4324.347705\n",
              "2022-02-01    4505.557555\n",
              "2022-03-01    4412.136332\n",
              "2022-04-01    4049.024659\n",
              "2022-05-01    4129.010681\n",
              "2022-06-01    4033.345679\n",
              "2022-07-01    4311.074608\n",
              "2022-08-01    4232.790730\n",
              "Freq: MS, Name: HW, dtype: float64"
            ]
          },
          "metadata": {},
          "execution_count": 43
        }
      ],
      "source": [
        "#predictions\n",
        "predictions_hw = model.forecast(steps = len(test_set)).rename(\"HW\")\n",
        "predictions_hw"
      ]
    },
    {
      "cell_type": "code",
      "execution_count": 44,
      "id": "6d0b7d75-e159-4b3d-8244-59e2ebbcca8a",
      "metadata": {
        "colab": {
          "base_uri": "https://localhost:8080/",
          "height": 388
        },
        "id": "6d0b7d75-e159-4b3d-8244-59e2ebbcca8a",
        "outputId": "938452e0-aa3b-4823-8261-45b5ed164313"
      },
      "outputs": [
        {
          "output_type": "display_data",
          "data": {
            "text/plain": [
              "<Figure size 648x432 with 1 Axes>"
            ],
            "image/png": "[encoded data removed]"
          },
          "metadata": {
            "needs_background": "light"
          }
        }
      ],
      "source": [
        "#visualization\n",
        "training_set['y']['2008-12-01':].plot(figsize = (9,6), legend = True)\n",
        "test_set['y'].plot(legend = True)\n",
        "predictions_hw.plot(legend = True)\n",
        "plt.show()\n"
      ]
    },
    {
      "cell_type": "markdown",
      "id": "b0687c60-e200-427a-99ad-2c0130d77951",
      "metadata": {
        "id": "b0687c60-e200-427a-99ad-2c0130d77951"
      },
      "source": [
        "# Avaliação do Modelo"
      ]
    },
    {
      "cell_type": "code",
      "execution_count": 45,
      "id": "bfb66c75-2e13-498b-915a-242e82330872",
      "metadata": {
        "colab": {
          "base_uri": "https://localhost:8080/"
        },
        "id": "bfb66c75-2e13-498b-915a-242e82330872",
        "outputId": "99dc9552-75c4-45d2-cb5b-f5b608ebe477"
      },
      "outputs": [
        {
          "output_type": "stream",
          "name": "stdout",
          "text": [
            "MAE: 476.0\n",
            "RMSE: 561.0\n"
          ]
        }
      ],
      "source": [
        "#MAE and RMSE\n",
        "#MAE e RMSE são indicadores de performance para modelos de regressão com variáveis dependentes contínuas \n",
        "from sklearn.metrics import mean_squared_error, mean_absolute_error\n",
        "print(\"MAE:\", round(mean_absolute_error(test_set['y'], predictions_hw),0))\n",
        "print(\"RMSE:\", round(np.sqrt(mean_squared_error(test_set['y'], predictions_hw)), 0))"
      ]
    },
    {
      "cell_type": "code",
      "execution_count": 46,
      "id": "df1affa0-105f-4b29-9a0c-aca53af6077f",
      "metadata": {
        "colab": {
          "base_uri": "https://localhost:8080/"
        },
        "id": "df1affa0-105f-4b29-9a0c-aca53af6077f",
        "outputId": "8f42e7b2-8df4-4523-8e47-5ee470ad05b0"
      },
      "outputs": [
        {
          "output_type": "execute_result",
          "data": {
            "text/plain": [
              "13.264736309020389"
            ]
          },
          "metadata": {},
          "execution_count": 46
        }
      ],
      "source": [
        "#MAPE function\n",
        "def MAPE(y_true, y_pred):\n",
        "  y_true, y_pred = np.array(y_true), np.array(y_pred)\n",
        "  return np.mean(np.abs((y_true - y_pred) / y_true)) * 100\n",
        "MAPE(test_set['y'], predictions_hw)"
      ]
    },
    {
      "cell_type": "markdown",
      "id": "b733ac68-b89f-4974-971e-adb7897fadca",
      "metadata": {
        "id": "b733ac68-b89f-4974-971e-adb7897fadca"
      },
      "source": [
        "# Exportando Previsões"
      ]
    },
    {
      "cell_type": "code",
      "execution_count": 26,
      "id": "65236624-0a46-4065-bbc1-43ddc1c2b7ae",
      "metadata": {
        "colab": {
          "base_uri": "https://localhost:8080/"
        },
        "id": "65236624-0a46-4065-bbc1-43ddc1c2b7ae",
        "outputId": "4fb1949d-1f43-49fa-a2ce-ca8571c64564"
      },
      "outputs": [
        {
          "output_type": "stream",
          "name": "stdout",
          "text": [
            "/content/drive/MyDrive/Projeto_Final/data\n"
          ]
        }
      ],
      "source": [
        "%cd /content/drive/MyDrive/Projeto_Final/data"
      ]
    },
    {
      "cell_type": "code",
      "execution_count": 27,
      "id": "0d3a8f0c-2d07-425a-ae65-767b5bc8e9b0",
      "metadata": {
        "id": "0d3a8f0c-2d07-425a-ae65-767b5bc8e9b0"
      },
      "outputs": [],
      "source": [
        "predictions_hw.to_csv('predictions_hw.csv', index = True)"
      ]
    },
    {
      "cell_type": "markdown",
      "id": "39cbbb80-71be-4741-abd2-819b62a24446",
      "metadata": {
        "id": "39cbbb80-71be-4741-abd2-819b62a24446"
      },
      "source": [
        "# SARIMAX"
      ]
    },
    {
      "cell_type": "code",
      "execution_count": 71,
      "id": "1a194881-35e2-4e76-9191-7d69034cb405",
      "metadata": {
        "colab": {
          "base_uri": "https://localhost:8080/"
        },
        "id": "1a194881-35e2-4e76-9191-7d69034cb405",
        "outputId": "eca5cbcd-3f9f-4b7f-e888-8d50568d4942"
      },
      "outputs": [
        {
          "output_type": "stream",
          "name": "stdout",
          "text": [
            "Looking in indexes: https://pypi.org/simple, https://us-python.pkg.dev/colab-wheels/public/simple/\n",
            "Requirement already satisfied: pmdarima in /usr/local/lib/python3.7/dist-packages (2.0.1)\n",
            "Requirement already satisfied: setuptools!=50.0.0,>=38.6.0 in /usr/local/lib/python3.7/dist-packages (from pmdarima) (57.4.0)\n",
            "Requirement already satisfied: joblib>=0.11 in /usr/local/lib/python3.7/dist-packages (from pmdarima) (1.1.0)\n",
            "Requirement already satisfied: urllib3 in /usr/local/lib/python3.7/dist-packages (from pmdarima) (1.24.3)\n",
            "Requirement already satisfied: statsmodels>=0.13.2 in /usr/local/lib/python3.7/dist-packages (from pmdarima) (0.13.2)\n",
            "Requirement already satisfied: Cython!=0.29.18,!=0.29.31,>=0.29 in /usr/local/lib/python3.7/dist-packages (from pmdarima) (0.29.32)\n",
            "Requirement already satisfied: numpy>=1.21 in /usr/local/lib/python3.7/dist-packages (from pmdarima) (1.21.6)\n",
            "Requirement already satisfied: pandas>=0.19 in /usr/local/lib/python3.7/dist-packages (from pmdarima) (1.3.5)\n",
            "Requirement already satisfied: scikit-learn>=0.22 in /usr/local/lib/python3.7/dist-packages (from pmdarima) (1.0.2)\n",
            "Requirement already satisfied: scipy>=1.3.2 in /usr/local/lib/python3.7/dist-packages (from pmdarima) (1.7.3)\n",
            "Requirement already satisfied: pytz>=2017.3 in /usr/local/lib/python3.7/dist-packages (from pandas>=0.19->pmdarima) (2022.2.1)\n",
            "Requirement already satisfied: python-dateutil>=2.7.3 in /usr/local/lib/python3.7/dist-packages (from pandas>=0.19->pmdarima) (2.8.2)\n",
            "Requirement already satisfied: six>=1.5 in /usr/local/lib/python3.7/dist-packages (from python-dateutil>=2.7.3->pandas>=0.19->pmdarima) (1.15.0)\n",
            "Requirement already satisfied: threadpoolctl>=2.0.0 in /usr/local/lib/python3.7/dist-packages (from scikit-learn>=0.22->pmdarima) (3.1.0)\n",
            "Requirement already satisfied: packaging>=21.3 in /usr/local/lib/python3.7/dist-packages (from statsmodels>=0.13.2->pmdarima) (21.3)\n",
            "Requirement already satisfied: patsy>=0.5.2 in /usr/local/lib/python3.7/dist-packages (from statsmodels>=0.13.2->pmdarima) (0.5.2)\n",
            "Requirement already satisfied: pyparsing!=3.0.5,>=2.0.2 in /usr/local/lib/python3.7/dist-packages (from packaging>=21.3->statsmodels>=0.13.2->pmdarima) (3.0.9)\n"
          ]
        }
      ],
      "source": [
        "!pip install pmdarima"
      ]
    },
    {
      "cell_type": "code",
      "execution_count": 72,
      "id": "22bc5c7c-53f9-4156-86f0-0454746d719e",
      "metadata": {
        "colab": {
          "base_uri": "https://localhost:8080/",
          "height": 459
        },
        "id": "22bc5c7c-53f9-4156-86f0-0454746d719e",
        "outputId": "81438526-83e9-4383-b4e2-60fbc19bf9cb"
      },
      "outputs": [
        {
          "output_type": "execute_result",
          "data": {
            "text/plain": [
              "<matplotlib.axes._subplots.AxesSubplot at 0x7fb5c6b9a890>"
            ]
          },
          "metadata": {},
          "execution_count": 72
        },
        {
          "output_type": "display_data",
          "data": {
            "text/plain": [
              "<Figure size 720x504 with 1 Axes>"
            ],
            "image/png": "[encoded data removed]"
          },
          "metadata": {
            "needs_background": "light"
          }
        }
      ],
      "source": [
        "#viz\n",
        "dataset[\"y\"].plot(figsize = (10, 7), legend = True)"
      ]
    },
    {
      "cell_type": "markdown",
      "id": "28fa8597-d545-4a2c-93e6-294de7c64d9f",
      "metadata": {
        "id": "28fa8597-d545-4a2c-93e6-294de7c64d9f"
      },
      "source": [
        "# Estacionaridde"
      ]
    },
    {
      "cell_type": "code",
      "execution_count": 48,
      "id": "a2789d43-6ad2-4d31-ac44-dc887252d43d",
      "metadata": {
        "colab": {
          "base_uri": "https://localhost:8080/"
        },
        "id": "a2789d43-6ad2-4d31-ac44-dc887252d43d",
        "outputId": "0bb4ab44-c715-4305-93bf-b8735c2511eb"
      },
      "outputs": [
        {
          "output_type": "stream",
          "name": "stdout",
          "text": [
            "Augmented Dickey Fuller p-value: 0.870341\n"
          ]
        }
      ],
      "source": [
        "#Stationarity\n",
        "from statsmodels.tsa.stattools import adfuller\n",
        "stationarity = adfuller(dataset['y'])\n",
        "print('Augmented Dickey Fuller p-value: %F' % stationarity[1])"
      ]
    },
    {
      "cell_type": "markdown",
      "id": "890e6b64-0a39-48fb-ba71-c5668292324f",
      "metadata": {
        "id": "890e6b64-0a39-48fb-ba71-c5668292324f"
      },
      "source": [
        "# Dados de Treino e Teste"
      ]
    },
    {
      "cell_type": "code",
      "execution_count": 49,
      "id": "4bb02456-a867-4610-a44f-01736336e432",
      "metadata": {
        "colab": {
          "base_uri": "https://localhost:8080/",
          "height": 457
        },
        "id": "4bb02456-a867-4610-a44f-01736336e432",
        "outputId": "baf2b58a-a9c2-4a5f-b8c7-d80ddfbc3175"
      },
      "outputs": [
        {
          "output_type": "execute_result",
          "data": {
            "text/plain": [
              "                      y  ELEICAO_MUNICIPAL  ELEICAO_FEDERAL\n",
              "date                                                       \n",
              "2021-09-01  3931.137219                0.0              0.0\n",
              "2021-10-01  3710.122383                0.0              0.0\n",
              "2021-11-01  3296.592830                0.0              0.0\n",
              "2021-12-01  3427.125288                0.0              0.0\n",
              "2022-01-01  3768.733612                0.0              1.0\n",
              "2022-02-01  4644.960285                0.0              1.0\n",
              "2022-03-01  3736.601278                0.0              1.0\n",
              "2022-04-01  3529.909354                0.0              1.0\n",
              "2022-05-01  3839.075501                0.0              1.0\n",
              "2022-06-01  3588.479445                0.0              1.0\n",
              "2022-07-01  3614.614134                0.0              1.0\n",
              "2022-08-01  4335.977196                0.0              1.0"
            ],
            "text/html": [
              "\n",
              "  <div id=\"df-aac45cda-aa63-47c3-b628-2f182b245e38\">\n",
              "    <div class=\"colab-df-container\">\n",
              "      <div>\n",
              "<style scoped>\n",
              "    .dataframe tbody tr th:only-of-type {\n",
              "        vertical-align: middle;\n",
              "    }\n",
              "\n",
              "    .dataframe tbody tr th {\n",
              "        vertical-align: top;\n",
              "    }\n",
              "\n",
              "    .dataframe thead th {\n",
              "        text-align: right;\n",
              "    }\n",
              "</style>\n",
              "<table border=\"1\" class=\"dataframe\">\n",
              "  <thead>\n",
              "    <tr style=\"text-align: right;\">\n",
              "      <th></th>\n",
              "      <th>y</th>\n",
              "      <th>ELEICAO_MUNICIPAL</th>\n",
              "      <th>ELEICAO_FEDERAL</th>\n",
              "    </tr>\n",
              "    <tr>\n",
              "      <th>date</th>\n",
              "      <th></th>\n",
              "      <th></th>\n",
              "      <th></th>\n",
              "    </tr>\n",
              "  </thead>\n",
              "  <tbody>\n",
              "    <tr>\n",
              "      <th>2021-09-01</th>\n",
              "      <td>3931.137219</td>\n",
              "      <td>0.0</td>\n",
              "      <td>0.0</td>\n",
              "    </tr>\n",
              "    <tr>\n",
              "      <th>2021-10-01</th>\n",
              "      <td>3710.122383</td>\n",
              "      <td>0.0</td>\n",
              "      <td>0.0</td>\n",
              "    </tr>\n",
              "    <tr>\n",
              "      <th>2021-11-01</th>\n",
              "      <td>3296.592830</td>\n",
              "      <td>0.0</td>\n",
              "      <td>0.0</td>\n",
              "    </tr>\n",
              "    <tr>\n",
              "      <th>2021-12-01</th>\n",
              "      <td>3427.125288</td>\n",
              "      <td>0.0</td>\n",
              "      <td>0.0</td>\n",
              "    </tr>\n",
              "    <tr>\n",
              "      <th>2022-01-01</th>\n",
              "      <td>3768.733612</td>\n",
              "      <td>0.0</td>\n",
              "      <td>1.0</td>\n",
              "    </tr>\n",
              "    <tr>\n",
              "      <th>2022-02-01</th>\n",
              "      <td>4644.960285</td>\n",
              "      <td>0.0</td>\n",
              "      <td>1.0</td>\n",
              "    </tr>\n",
              "    <tr>\n",
              "      <th>2022-03-01</th>\n",
              "      <td>3736.601278</td>\n",
              "      <td>0.0</td>\n",
              "      <td>1.0</td>\n",
              "    </tr>\n",
              "    <tr>\n",
              "      <th>2022-04-01</th>\n",
              "      <td>3529.909354</td>\n",
              "      <td>0.0</td>\n",
              "      <td>1.0</td>\n",
              "    </tr>\n",
              "    <tr>\n",
              "      <th>2022-05-01</th>\n",
              "      <td>3839.075501</td>\n",
              "      <td>0.0</td>\n",
              "      <td>1.0</td>\n",
              "    </tr>\n",
              "    <tr>\n",
              "      <th>2022-06-01</th>\n",
              "      <td>3588.479445</td>\n",
              "      <td>0.0</td>\n",
              "      <td>1.0</td>\n",
              "    </tr>\n",
              "    <tr>\n",
              "      <th>2022-07-01</th>\n",
              "      <td>3614.614134</td>\n",
              "      <td>0.0</td>\n",
              "      <td>1.0</td>\n",
              "    </tr>\n",
              "    <tr>\n",
              "      <th>2022-08-01</th>\n",
              "      <td>4335.977196</td>\n",
              "      <td>0.0</td>\n",
              "      <td>1.0</td>\n",
              "    </tr>\n",
              "  </tbody>\n",
              "</table>\n",
              "</div>\n",
              "      <button class=\"colab-df-convert\" onclick=\"convertToInteractive('df-aac45cda-aa63-47c3-b628-2f182b245e38')\"\n",
              "              title=\"Convert this dataframe to an interactive table.\"\n",
              "              style=\"display:none;\">\n",
              "        \n",
              "  <svg xmlns=\"http://www.w3.org/2000/svg\" height=\"24px\"viewBox=\"0 0 24 24\"\n",
              "       width=\"24px\">\n",
              "    <path d=\"M0 0h24v24H0V0z\" fill=\"none\"/>\n",
              "    <path d=\"M18.56 5.44l.94 2.06.94-2.06 2.06-.94-2.06-.94-.94-2.06-.94 2.06-2.06.94zm-11 1L8.5 8.5l.94-2.06 2.06-.94-2.06-.94L8.5 2.5l-.94 2.06-2.06.94zm10 10l.94 2.06.94-2.06 2.06-.94-2.06-.94-.94-2.06-.94 2.06-2.06.94z\"/><path d=\"M17.41 7.96l-1.37-1.37c-.4-.4-.92-.59-1.43-.59-.52 0-1.04.2-1.43.59L10.3 9.45l-7.72 7.72c-.78.78-.78 2.05 0 2.83L4 21.41c.39.39.9.59 1.41.59.51 0 1.02-.2 1.41-.59l7.78-7.78 2.81-2.81c.8-.78.8-2.07 0-2.86zM5.41 20L4 18.59l7.72-7.72 1.47 1.35L5.41 20z\"/>\n",
              "  </svg>\n",
              "      </button>\n",
              "      \n",
              "  <style>\n",
              "    .colab-df-container {\n",
              "      display:flex;\n",
              "      flex-wrap:wrap;\n",
              "      gap: 12px;\n",
              "    }\n",
              "\n",
              "    .colab-df-convert {\n",
              "      background-color: #E8F0FE;\n",
              "      border: none;\n",
              "      border-radius: 50%;\n",
              "      cursor: pointer;\n",
              "      display: none;\n",
              "      fill: #1967D2;\n",
              "      height: 32px;\n",
              "      padding: 0 0 0 0;\n",
              "      width: 32px;\n",
              "    }\n",
              "\n",
              "    .colab-df-convert:hover {\n",
              "      background-color: #E2EBFA;\n",
              "      box-shadow: 0px 1px 2px rgba(60, 64, 67, 0.3), 0px 1px 3px 1px rgba(60, 64, 67, 0.15);\n",
              "      fill: #174EA6;\n",
              "    }\n",
              "\n",
              "    [theme=dark] .colab-df-convert {\n",
              "      background-color: #3B4455;\n",
              "      fill: #D2E3FC;\n",
              "    }\n",
              "\n",
              "    [theme=dark] .colab-df-convert:hover {\n",
              "      background-color: #434B5C;\n",
              "      box-shadow: 0px 1px 3px 1px rgba(0, 0, 0, 0.15);\n",
              "      filter: drop-shadow(0px 1px 2px rgba(0, 0, 0, 0.3));\n",
              "      fill: #FFFFFF;\n",
              "    }\n",
              "  </style>\n",
              "\n",
              "      <script>\n",
              "        const buttonEl =\n",
              "          document.querySelector('#df-aac45cda-aa63-47c3-b628-2f182b245e38 button.colab-df-convert');\n",
              "        buttonEl.style.display =\n",
              "          google.colab.kernel.accessAllowed ? 'block' : 'none';\n",
              "\n",
              "        async function convertToInteractive(key) {\n",
              "          const element = document.querySelector('#df-aac45cda-aa63-47c3-b628-2f182b245e38');\n",
              "          const dataTable =\n",
              "            await google.colab.kernel.invokeFunction('convertToInteractive',\n",
              "                                                     [key], {});\n",
              "          if (!dataTable) return;\n",
              "\n",
              "          const docLinkHtml = 'Like what you see? Visit the ' +\n",
              "            '<a target=\"_blank\" href=https://colab.research.google.com/notebooks/data_table.ipynb>data table notebook</a>'\n",
              "            + ' to learn more about interactive tables.';\n",
              "          element.innerHTML = '';\n",
              "          dataTable['output_type'] = 'display_data';\n",
              "          await google.colab.output.renderOutput(dataTable, element);\n",
              "          const docLink = document.createElement('div');\n",
              "          docLink.innerHTML = docLinkHtml;\n",
              "          element.appendChild(docLink);\n",
              "        }\n",
              "      </script>\n",
              "    </div>\n",
              "  </div>\n",
              "  "
            ]
          },
          "metadata": {},
          "execution_count": 49
        }
      ],
      "source": [
        "test_months = 12\n",
        "training_set = dataset.iloc[:-test_months, :]\n",
        "test_set = dataset.iloc[-test_months:, :]\n",
        "test_set"
      ]
    },
    {
      "cell_type": "markdown",
      "id": "ab159ff7-dfd8-4b22-a5c4-1372912a6d68",
      "metadata": {
        "id": "ab159ff7-dfd8-4b22-a5c4-1372912a6d68"
      },
      "source": [
        "# Modelo de Previsão"
      ]
    },
    {
      "cell_type": "code",
      "execution_count": 50,
      "id": "c2926932-3839-4de6-ae1c-b1c3a2dedd37",
      "metadata": {
        "colab": {
          "base_uri": "https://localhost:8080/",
          "height": 238
        },
        "id": "c2926932-3839-4de6-ae1c-b1c3a2dedd37",
        "outputId": "a5d06092-9db9-4b0a-d747-9ce64415acb2"
      },
      "outputs": [
        {
          "output_type": "execute_result",
          "data": {
            "text/plain": [
              "            ELEICAO_MUNICIPAL  ELEICAO_FEDERAL\n",
              "date                                          \n",
              "2021-09-01                0.0              0.0\n",
              "2021-10-01                0.0              0.0\n",
              "2021-11-01                0.0              0.0\n",
              "2021-12-01                0.0              0.0\n",
              "2022-01-01                0.0              1.0"
            ],
            "text/html": [
              "\n",
              "  <div id=\"df-83a19b70-574d-4932-94ef-afe87d483f37\">\n",
              "    <div class=\"colab-df-container\">\n",
              "      <div>\n",
              "<style scoped>\n",
              "    .dataframe tbody tr th:only-of-type {\n",
              "        vertical-align: middle;\n",
              "    }\n",
              "\n",
              "    .dataframe tbody tr th {\n",
              "        vertical-align: top;\n",
              "    }\n",
              "\n",
              "    .dataframe thead th {\n",
              "        text-align: right;\n",
              "    }\n",
              "</style>\n",
              "<table border=\"1\" class=\"dataframe\">\n",
              "  <thead>\n",
              "    <tr style=\"text-align: right;\">\n",
              "      <th></th>\n",
              "      <th>ELEICAO_MUNICIPAL</th>\n",
              "      <th>ELEICAO_FEDERAL</th>\n",
              "    </tr>\n",
              "    <tr>\n",
              "      <th>date</th>\n",
              "      <th></th>\n",
              "      <th></th>\n",
              "    </tr>\n",
              "  </thead>\n",
              "  <tbody>\n",
              "    <tr>\n",
              "      <th>2021-09-01</th>\n",
              "      <td>0.0</td>\n",
              "      <td>0.0</td>\n",
              "    </tr>\n",
              "    <tr>\n",
              "      <th>2021-10-01</th>\n",
              "      <td>0.0</td>\n",
              "      <td>0.0</td>\n",
              "    </tr>\n",
              "    <tr>\n",
              "      <th>2021-11-01</th>\n",
              "      <td>0.0</td>\n",
              "      <td>0.0</td>\n",
              "    </tr>\n",
              "    <tr>\n",
              "      <th>2021-12-01</th>\n",
              "      <td>0.0</td>\n",
              "      <td>0.0</td>\n",
              "    </tr>\n",
              "    <tr>\n",
              "      <th>2022-01-01</th>\n",
              "      <td>0.0</td>\n",
              "      <td>1.0</td>\n",
              "    </tr>\n",
              "  </tbody>\n",
              "</table>\n",
              "</div>\n",
              "      <button class=\"colab-df-convert\" onclick=\"convertToInteractive('df-83a19b70-574d-4932-94ef-afe87d483f37')\"\n",
              "              title=\"Convert this dataframe to an interactive table.\"\n",
              "              style=\"display:none;\">\n",
              "        \n",
              "  <svg xmlns=\"http://www.w3.org/2000/svg\" height=\"24px\"viewBox=\"0 0 24 24\"\n",
              "       width=\"24px\">\n",
              "    <path d=\"M0 0h24v24H0V0z\" fill=\"none\"/>\n",
              "    <path d=\"M18.56 5.44l.94 2.06.94-2.06 2.06-.94-2.06-.94-.94-2.06-.94 2.06-2.06.94zm-11 1L8.5 8.5l.94-2.06 2.06-.94-2.06-.94L8.5 2.5l-.94 2.06-2.06.94zm10 10l.94 2.06.94-2.06 2.06-.94-2.06-.94-.94-2.06-.94 2.06-2.06.94z\"/><path d=\"M17.41 7.96l-1.37-1.37c-.4-.4-.92-.59-1.43-.59-.52 0-1.04.2-1.43.59L10.3 9.45l-7.72 7.72c-.78.78-.78 2.05 0 2.83L4 21.41c.39.39.9.59 1.41.59.51 0 1.02-.2 1.41-.59l7.78-7.78 2.81-2.81c.8-.78.8-2.07 0-2.86zM5.41 20L4 18.59l7.72-7.72 1.47 1.35L5.41 20z\"/>\n",
              "  </svg>\n",
              "      </button>\n",
              "      \n",
              "  <style>\n",
              "    .colab-df-container {\n",
              "      display:flex;\n",
              "      flex-wrap:wrap;\n",
              "      gap: 12px;\n",
              "    }\n",
              "\n",
              "    .colab-df-convert {\n",
              "      background-color: #E8F0FE;\n",
              "      border: none;\n",
              "      border-radius: 50%;\n",
              "      cursor: pointer;\n",
              "      display: none;\n",
              "      fill: #1967D2;\n",
              "      height: 32px;\n",
              "      padding: 0 0 0 0;\n",
              "      width: 32px;\n",
              "    }\n",
              "\n",
              "    .colab-df-convert:hover {\n",
              "      background-color: #E2EBFA;\n",
              "      box-shadow: 0px 1px 2px rgba(60, 64, 67, 0.3), 0px 1px 3px 1px rgba(60, 64, 67, 0.15);\n",
              "      fill: #174EA6;\n",
              "    }\n",
              "\n",
              "    [theme=dark] .colab-df-convert {\n",
              "      background-color: #3B4455;\n",
              "      fill: #D2E3FC;\n",
              "    }\n",
              "\n",
              "    [theme=dark] .colab-df-convert:hover {\n",
              "      background-color: #434B5C;\n",
              "      box-shadow: 0px 1px 3px 1px rgba(0, 0, 0, 0.15);\n",
              "      filter: drop-shadow(0px 1px 2px rgba(0, 0, 0, 0.3));\n",
              "      fill: #FFFFFF;\n",
              "    }\n",
              "  </style>\n",
              "\n",
              "      <script>\n",
              "        const buttonEl =\n",
              "          document.querySelector('#df-83a19b70-574d-4932-94ef-afe87d483f37 button.colab-df-convert');\n",
              "        buttonEl.style.display =\n",
              "          google.colab.kernel.accessAllowed ? 'block' : 'none';\n",
              "\n",
              "        async function convertToInteractive(key) {\n",
              "          const element = document.querySelector('#df-83a19b70-574d-4932-94ef-afe87d483f37');\n",
              "          const dataTable =\n",
              "            await google.colab.kernel.invokeFunction('convertToInteractive',\n",
              "                                                     [key], {});\n",
              "          if (!dataTable) return;\n",
              "\n",
              "          const docLinkHtml = 'Like what you see? Visit the ' +\n",
              "            '<a target=\"_blank\" href=https://colab.research.google.com/notebooks/data_table.ipynb>data table notebook</a>'\n",
              "            + ' to learn more about interactive tables.';\n",
              "          element.innerHTML = '';\n",
              "          dataTable['output_type'] = 'display_data';\n",
              "          await google.colab.output.renderOutput(dataTable, element);\n",
              "          const docLink = document.createElement('div');\n",
              "          docLink.innerHTML = docLinkHtml;\n",
              "          element.appendChild(docLink);\n",
              "        }\n",
              "      </script>\n",
              "    </div>\n",
              "  </div>\n",
              "  "
            ]
          },
          "metadata": {},
          "execution_count": 50
        }
      ],
      "source": [
        "#exogenous variables\n",
        "train_exog = training_set.iloc[:,1:]\n",
        "test_exog = test_set.iloc[:,1:]\n",
        "test_exog.head()"
      ]
    },
    {
      "cell_type": "code",
      "execution_count": 51,
      "id": "b53e0638-bd5e-4981-983d-6f622d6de437",
      "metadata": {
        "colab": {
          "base_uri": "https://localhost:8080/"
        },
        "id": "b53e0638-bd5e-4981-983d-6f622d6de437",
        "outputId": "44a16825-248b-4f56-8d12-452ae4a66bad"
      },
      "outputs": [
        {
          "output_type": "stream",
          "name": "stdout",
          "text": [
            "Looking in indexes: https://pypi.org/simple, https://us-python.pkg.dev/colab-wheels/public/simple/\n",
            "Requirement already satisfied: pmdarima in /usr/local/lib/python3.7/dist-packages (2.0.1)\n",
            "Requirement already satisfied: statsmodels>=0.13.2 in /usr/local/lib/python3.7/dist-packages (from pmdarima) (0.13.2)\n",
            "Requirement already satisfied: scipy>=1.3.2 in /usr/local/lib/python3.7/dist-packages (from pmdarima) (1.7.3)\n",
            "Requirement already satisfied: urllib3 in /usr/local/lib/python3.7/dist-packages (from pmdarima) (1.24.3)\n",
            "Requirement already satisfied: pandas>=0.19 in /usr/local/lib/python3.7/dist-packages (from pmdarima) (1.3.5)\n",
            "Requirement already satisfied: scikit-learn>=0.22 in /usr/local/lib/python3.7/dist-packages (from pmdarima) (1.0.2)\n",
            "Requirement already satisfied: setuptools!=50.0.0,>=38.6.0 in /usr/local/lib/python3.7/dist-packages (from pmdarima) (57.4.0)\n",
            "Requirement already satisfied: joblib>=0.11 in /usr/local/lib/python3.7/dist-packages (from pmdarima) (1.1.0)\n",
            "Requirement already satisfied: numpy>=1.21 in /usr/local/lib/python3.7/dist-packages (from pmdarima) (1.21.6)\n",
            "Requirement already satisfied: Cython!=0.29.18,!=0.29.31,>=0.29 in /usr/local/lib/python3.7/dist-packages (from pmdarima) (0.29.32)\n",
            "Requirement already satisfied: python-dateutil>=2.7.3 in /usr/local/lib/python3.7/dist-packages (from pandas>=0.19->pmdarima) (2.8.2)\n",
            "Requirement already satisfied: pytz>=2017.3 in /usr/local/lib/python3.7/dist-packages (from pandas>=0.19->pmdarima) (2022.2.1)\n",
            "Requirement already satisfied: six>=1.5 in /usr/local/lib/python3.7/dist-packages (from python-dateutil>=2.7.3->pandas>=0.19->pmdarima) (1.15.0)\n",
            "Requirement already satisfied: threadpoolctl>=2.0.0 in /usr/local/lib/python3.7/dist-packages (from scikit-learn>=0.22->pmdarima) (3.1.0)\n",
            "Requirement already satisfied: packaging>=21.3 in /usr/local/lib/python3.7/dist-packages (from statsmodels>=0.13.2->pmdarima) (21.3)\n",
            "Requirement already satisfied: patsy>=0.5.2 in /usr/local/lib/python3.7/dist-packages (from statsmodels>=0.13.2->pmdarima) (0.5.2)\n",
            "Requirement already satisfied: pyparsing!=3.0.5,>=2.0.2 in /usr/local/lib/python3.7/dist-packages (from packaging>=21.3->statsmodels>=0.13.2->pmdarima) (3.0.9)\n"
          ]
        }
      ],
      "source": [
        "!pip install pmdarima"
      ]
    },
    {
      "cell_type": "code",
      "execution_count": 77,
      "id": "2263d218-6647-40dd-8ade-dc18f17cc71b",
      "metadata": {
        "id": "2263d218-6647-40dd-8ade-dc18f17cc71b"
      },
      "outputs": [],
      "source": [
        "#Libraries\n",
        "from pmdarima import auto_arima"
      ]
    },
    {
      "cell_type": "code",
      "source": [
        "#forecasting model\n",
        "model = auto_arima(y = training_set['y'],\n",
        "                   X = train_exog,\n",
        "                   m = 12,\n",
        "                   seasonal = True,\n",
        "                   stepwise = False)"
      ],
      "metadata": {
        "id": "OgGZlq0vdstK"
      },
      "id": "OgGZlq0vdstK",
      "execution_count": 78,
      "outputs": []
    },
    {
      "cell_type": "code",
      "source": [
        "#summary\n",
        "model.summary()"
      ],
      "metadata": {
        "colab": {
          "base_uri": "https://localhost:8080/",
          "height": 558
        },
        "id": "1hyEtLnEdvGg",
        "outputId": "02a30b8d-dd9f-49ad-9161-ce4cfbdc2f39"
      },
      "id": "1hyEtLnEdvGg",
      "execution_count": 79,
      "outputs": [
        {
          "output_type": "execute_result",
          "data": {
            "text/plain": [
              "<class 'statsmodels.iolib.summary.Summary'>\n",
              "\"\"\"\n",
              "                               SARIMAX Results                                \n",
              "==============================================================================\n",
              "Dep. Variable:                      y   No. Observations:                  153\n",
              "Model:               SARIMAX(2, 1, 3)   Log Likelihood               -1085.126\n",
              "Date:                Wed, 05 Oct 2022   AIC                           2188.252\n",
              "Time:                        18:58:53   BIC                           2215.467\n",
              "Sample:                    12-01-2008   HQIC                          2199.308\n",
              "                         - 08-01-2021                                         \n",
              "Covariance Type:                  opg                                         \n",
              "=====================================================================================\n",
              "                        coef    std err          z      P>|z|      [0.025      0.975]\n",
              "-------------------------------------------------------------------------------------\n",
              "intercept            48.7173     30.819      1.581      0.114     -11.687     109.121\n",
              "ELEICAO_MUNICIPAL   310.0073     66.846      4.638      0.000     178.991     441.024\n",
              "ELEICAO_FEDERAL      22.1055    119.064      0.186      0.853    -211.256     255.467\n",
              "ar.L1                -1.2892      0.083    -15.612      0.000      -1.451      -1.127\n",
              "ar.L2                -0.9512      0.064    -14.791      0.000      -1.077      -0.825\n",
              "ma.L1                 0.6695      0.111      6.042      0.000       0.452       0.887\n",
              "ma.L2                -0.0010      0.110     -0.009      0.993      -0.216       0.214\n",
              "ma.L3                -0.6354      0.091     -7.004      0.000      -0.813      -0.458\n",
              "sigma2             9.533e+04   1.02e+04      9.346      0.000    7.53e+04    1.15e+05\n",
              "===================================================================================\n",
              "Ljung-Box (L1) (Q):                   0.45   Jarque-Bera (JB):                23.55\n",
              "Prob(Q):                              0.50   Prob(JB):                         0.00\n",
              "Heteroskedasticity (H):               1.36   Skew:                             0.72\n",
              "Prob(H) (two-sided):                  0.27   Kurtosis:                         4.29\n",
              "===================================================================================\n",
              "\n",
              "Warnings:\n",
              "[1] Covariance matrix calculated using the outer product of gradients (complex-step).\n",
              "\"\"\""
            ],
            "text/html": [
              "<table class=\"simpletable\">\n",
              "<caption>SARIMAX Results</caption>\n",
              "<tr>\n",
              "  <th>Dep. Variable:</th>           <td>y</td>        <th>  No. Observations:  </th>    <td>153</td>   \n",
              "</tr>\n",
              "<tr>\n",
              "  <th>Model:</th>           <td>SARIMAX(2, 1, 3)</td> <th>  Log Likelihood     </th> <td>-1085.126</td>\n",
              "</tr>\n",
              "<tr>\n",
              "  <th>Date:</th>            <td>Wed, 05 Oct 2022</td> <th>  AIC                </th> <td>2188.252</td> \n",
              "</tr>\n",
              "<tr>\n",
              "  <th>Time:</th>                <td>18:58:53</td>     <th>  BIC                </th> <td>2215.467</td> \n",
              "</tr>\n",
              "<tr>\n",
              "  <th>Sample:</th>             <td>12-01-2008</td>    <th>  HQIC               </th> <td>2199.308</td> \n",
              "</tr>\n",
              "<tr>\n",
              "  <th></th>                   <td>- 08-01-2021</td>   <th>                     </th>     <td> </td>    \n",
              "</tr>\n",
              "<tr>\n",
              "  <th>Covariance Type:</th>        <td>opg</td>       <th>                     </th>     <td> </td>    \n",
              "</tr>\n",
              "</table>\n",
              "<table class=\"simpletable\">\n",
              "<tr>\n",
              "          <td></td>             <th>coef</th>     <th>std err</th>      <th>z</th>      <th>P>|z|</th>  <th>[0.025</th>    <th>0.975]</th>  \n",
              "</tr>\n",
              "<tr>\n",
              "  <th>intercept</th>         <td>   48.7173</td> <td>   30.819</td> <td>    1.581</td> <td> 0.114</td> <td>  -11.687</td> <td>  109.121</td>\n",
              "</tr>\n",
              "<tr>\n",
              "  <th>ELEICAO_MUNICIPAL</th> <td>  310.0073</td> <td>   66.846</td> <td>    4.638</td> <td> 0.000</td> <td>  178.991</td> <td>  441.024</td>\n",
              "</tr>\n",
              "<tr>\n",
              "  <th>ELEICAO_FEDERAL</th>   <td>   22.1055</td> <td>  119.064</td> <td>    0.186</td> <td> 0.853</td> <td> -211.256</td> <td>  255.467</td>\n",
              "</tr>\n",
              "<tr>\n",
              "  <th>ar.L1</th>             <td>   -1.2892</td> <td>    0.083</td> <td>  -15.612</td> <td> 0.000</td> <td>   -1.451</td> <td>   -1.127</td>\n",
              "</tr>\n",
              "<tr>\n",
              "  <th>ar.L2</th>             <td>   -0.9512</td> <td>    0.064</td> <td>  -14.791</td> <td> 0.000</td> <td>   -1.077</td> <td>   -0.825</td>\n",
              "</tr>\n",
              "<tr>\n",
              "  <th>ma.L1</th>             <td>    0.6695</td> <td>    0.111</td> <td>    6.042</td> <td> 0.000</td> <td>    0.452</td> <td>    0.887</td>\n",
              "</tr>\n",
              "<tr>\n",
              "  <th>ma.L2</th>             <td>   -0.0010</td> <td>    0.110</td> <td>   -0.009</td> <td> 0.993</td> <td>   -0.216</td> <td>    0.214</td>\n",
              "</tr>\n",
              "<tr>\n",
              "  <th>ma.L3</th>             <td>   -0.6354</td> <td>    0.091</td> <td>   -7.004</td> <td> 0.000</td> <td>   -0.813</td> <td>   -0.458</td>\n",
              "</tr>\n",
              "<tr>\n",
              "  <th>sigma2</th>            <td> 9.533e+04</td> <td> 1.02e+04</td> <td>    9.346</td> <td> 0.000</td> <td> 7.53e+04</td> <td> 1.15e+05</td>\n",
              "</tr>\n",
              "</table>\n",
              "<table class=\"simpletable\">\n",
              "<tr>\n",
              "  <th>Ljung-Box (L1) (Q):</th>     <td>0.45</td> <th>  Jarque-Bera (JB):  </th> <td>23.55</td>\n",
              "</tr>\n",
              "<tr>\n",
              "  <th>Prob(Q):</th>                <td>0.50</td> <th>  Prob(JB):          </th> <td>0.00</td> \n",
              "</tr>\n",
              "<tr>\n",
              "  <th>Heteroskedasticity (H):</th> <td>1.36</td> <th>  Skew:              </th> <td>0.72</td> \n",
              "</tr>\n",
              "<tr>\n",
              "  <th>Prob(H) (two-sided):</th>    <td>0.27</td> <th>  Kurtosis:          </th> <td>4.29</td> \n",
              "</tr>\n",
              "</table><br/><br/>Warnings:<br/>[1] Covariance matrix calculated using the outer product of gradients (complex-step)."
            ]
          },
          "metadata": {},
          "execution_count": 79
        }
      ]
    },
    {
      "cell_type": "code",
      "source": [
        "#predictions\n",
        "predictions_sarimax = pd.Series(model.predict(n_periods=12,\n",
        "                              X = test_exog)).rename(\"SARIMAX\")\n",
        "predictions_sarimax.index = test_set.index                              \n",
        "predictions_sarimax"
      ],
      "metadata": {
        "colab": {
          "base_uri": "https://localhost:8080/"
        },
        "id": "YVwfaQmjeUXb",
        "outputId": "5c08eb6c-9a63-4476-bcb8-408410f28576"
      },
      "id": "YVwfaQmjeUXb",
      "execution_count": 80,
      "outputs": [
        {
          "output_type": "execute_result",
          "data": {
            "text/plain": [
              "date\n",
              "2021-09-01    4390.764789\n",
              "2021-10-01    4005.076034\n",
              "2021-11-01    4130.465064\n",
              "2021-12-01    4384.394485\n",
              "2022-01-01    4008.587632\n",
              "2022-02-01    4328.752755\n",
              "2022-03-01    4343.207140\n",
              "2022-04-01    4068.753652\n",
              "2022-05-01    4457.542838\n",
              "2022-06-01    4266.095936\n",
              "2022-07-01    4191.812637\n",
              "2022-08-01    4518.396167\n",
              "Freq: MS, Name: SARIMAX, dtype: float64"
            ]
          },
          "metadata": {},
          "execution_count": 80
        }
      ]
    },
    {
      "cell_type": "code",
      "source": [
        "#visualization\n",
        "training_set['y']['2008-12-01':].plot(figsize = (9,6), legend = True)\n",
        "test_set['y'].plot(legend = True)\n",
        "predictions_sarimax.plot(legend = True)\n",
        "plt.show()"
      ],
      "metadata": {
        "colab": {
          "base_uri": "https://localhost:8080/",
          "height": 388
        },
        "id": "aYC_eVBJjVDx",
        "outputId": "68b1fa96-0c5a-4e21-f7ac-3177db4d7ff7"
      },
      "id": "aYC_eVBJjVDx",
      "execution_count": 83,
      "outputs": [
        {
          "output_type": "display_data",
          "data": {
            "text/plain": [
              "<Figure size 648x432 with 1 Axes>"
            ],
            "image/png": "[encoded data removed]"
          },
          "metadata": {
            "needs_background": "light"
          }
        }
      ]
    },
    {
      "cell_type": "markdown",
      "source": [
        "# Avaliação do Modelo\n",
        "\n"
      ],
      "metadata": {
        "id": "WLID1vMhjgz1"
      },
      "id": "WLID1vMhjgz1"
    },
    {
      "cell_type": "code",
      "source": [
        "#MAE and RMSE\n",
        "from sklearn.metrics import mean_squared_error, mean_absolute_error\n",
        "print(round(mean_absolute_error(test_set['y'], predictions_sarimax),0))\n",
        "print(round(np.sqrt(mean_squared_error(test_set['y'], predictions_sarimax)), 0))"
      ],
      "metadata": {
        "colab": {
          "base_uri": "https://localhost:8080/"
        },
        "id": "4IV91uRQjbaa",
        "outputId": "f1c70a5c-964d-4ba4-9348-09f1bf30fb55"
      },
      "id": "4IV91uRQjbaa",
      "execution_count": 84,
      "outputs": [
        {
          "output_type": "stream",
          "name": "stdout",
          "text": [
            "525.0\n",
            "573.0\n"
          ]
        }
      ]
    },
    {
      "cell_type": "code",
      "source": [
        "#MAPE function\n",
        "def MAPE(y_true, y_pred):\n",
        "  y_true, y_pred = np.array(y_true), np.array(y_pred)\n",
        "  return np.mean(np.abs((y_true - y_pred) / y_true)) * 100\n",
        "MAPE(test_set['y'], predictions_sarimax)"
      ],
      "metadata": {
        "colab": {
          "base_uri": "https://localhost:8080/"
        },
        "id": "Dizj9YDmjqrE",
        "outputId": "dbed2cdb-4d21-43fb-c9c8-40cac7e93438"
      },
      "id": "Dizj9YDmjqrE",
      "execution_count": 85,
      "outputs": [
        {
          "output_type": "execute_result",
          "data": {
            "text/plain": [
              "14.392387148336413"
            ]
          },
          "metadata": {},
          "execution_count": 85
        }
      ]
    },
    {
      "cell_type": "markdown",
      "source": [
        "# Exportando Previsões"
      ],
      "metadata": {
        "id": "2SEkYUpxj067"
      },
      "id": "2SEkYUpxj067"
    },
    {
      "cell_type": "code",
      "source": [
        "%cd /content/drive/MyDrive/Projeto_Final/data"
      ],
      "metadata": {
        "colab": {
          "base_uri": "https://localhost:8080/"
        },
        "id": "T9QqwxUkjtqa",
        "outputId": "e9955414-8ce4-42dc-80f6-eff6eabd4622"
      },
      "id": "T9QqwxUkjtqa",
      "execution_count": 87,
      "outputs": [
        {
          "output_type": "stream",
          "name": "stdout",
          "text": [
            "/content/drive/MyDrive/Projeto_Final/data\n"
          ]
        }
      ]
    },
    {
      "cell_type": "code",
      "source": [
        "predictions_sarimax.to_csv('predictions_sarimax.csv', index = True)"
      ],
      "metadata": {
        "id": "DVgOzmBZj42H"
      },
      "id": "DVgOzmBZj42H",
      "execution_count": 88,
      "outputs": []
    }
  ],
  "metadata": {
    "kernelspec": {
      "display_name": "Python 3 (ipykernel)",
      "language": "python",
      "name": "python3"
    },
    "language_info": {
      "codemirror_mode": {
        "name": "ipython",
        "version": 3
      },
      "file_extension": ".py",
      "mimetype": "text/x-python",
      "name": "python",
      "nbconvert_exporter": "python",
      "pygments_lexer": "ipython3",
      "version": "3.9.12"
    },
    "colab": {
      "provenance": [],
      "collapsed_sections": []
    }
  },
  "nbformat": 4,
  "nbformat_minor": 5
}